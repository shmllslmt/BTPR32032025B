{
 "cells": [
  {
   "cell_type": "markdown",
   "id": "673219a2-84e4-43f1-bdef-b5f76813329a",
   "metadata": {},
   "source": [
    "<h1>Lists</h1>\n",
    "<li>Lists (mutable can be changed) [ ]</li>\n",
    "<li>Tuple (immutable can't be changed) ( )</li>\n",
    "<li>Dictionary (mutable key-value pairs) { }</li>"
   ]
  },
  {
   "cell_type": "code",
   "execution_count": 18,
   "id": "e3605b33-ba36-482f-b4ba-901aae0738c4",
   "metadata": {},
   "outputs": [
    {
     "name": "stdout",
     "output_type": "stream",
     "text": [
      "['physics', 'biology', 'chemistry', 'geography', 'history']\n",
      "physics\n",
      "['biology', 'chemistry']\n",
      "Size of list before append: 5\n",
      "Size of list after append: 6\n",
      "Elements before delete:\n",
      "['physics', 'biology', 'chemistry', 'mathematics', 'history', 'additional mathematics']\n",
      "Elements after delete:\n",
      "['physics', 'biology', 'chemistry', 'mathematics', 'additional mathematics']\n"
     ]
    }
   ],
   "source": [
    "# Let's take a look at list first\n",
    "subjects = ['physics', 'biology', 'chemistry', 'geography', 'history']\n",
    "\n",
    "# Print the whole list\n",
    "print(subjects)\n",
    "# Print specific element by index number\n",
    "print(subjects[0])\n",
    "# Print specific range of element \n",
    "print(subjects[1:3])\n",
    "\n",
    "# Updating a list element\n",
    "subjects[3] = 'mathematics'\n",
    "\n",
    "# Adding new element to the list\n",
    "print(f'Size of list before append: {len(subjects)}')\n",
    "subjects.append('additional mathematics')\n",
    "print(f'Size of list after append: {len(subjects)}')\n",
    "\n",
    "# Deleting a specific element\n",
    "print(f'Elements before delete:\\n{subjects}')\n",
    "del subjects[4]\n",
    "print(f'Elements after delete:\\n{subjects}')\n",
    "\n",
    "# Deleting the whole list \n",
    "# Cause an error if you are trying to use it in the future\n",
    "del subjects"
   ]
  },
  {
   "cell_type": "markdown",
   "id": "b4853fcf-fc92-4ead-ab34-af3373b024ee",
   "metadata": {},
   "source": [
    "<h3>Lists Built-In Functions</h3>"
   ]
  },
  {
   "cell_type": "code",
   "execution_count": 16,
   "id": "d273d389-08bc-4bb3-b57b-716ad6c25137",
   "metadata": {},
   "outputs": [
    {
     "name": "stdout",
     "output_type": "stream",
     "text": [
      "Total Marks: 548.4\n",
      "Highest Marks: 100\n",
      "Lowest Marks: 56\n"
     ]
    }
   ],
   "source": [
    "marks = [100, 90, 89, 78, 56, 78.9, 56.5]\n",
    "print(f'Total Marks: {sum(marks)}')\n",
    "print(f'Highest Marks: {max(marks)}')\n",
    "print(f'Lowest Marks: {min(marks)}')"
   ]
  },
  {
   "cell_type": "markdown",
   "id": "f2472e04-c6df-4a26-9ed9-e96139d136de",
   "metadata": {},
   "source": [
    "<h3>Tuple</h3>"
   ]
  },
  {
   "cell_type": "code",
   "execution_count": 23,
   "id": "d8e7941c-fe61-4a09-b3c3-35a56c66ee38",
   "metadata": {},
   "outputs": [
    {
     "name": "stdout",
     "output_type": "stream",
     "text": [
      "('physics', 'biology', 'chemistry', 'geography', 'history')\n",
      "physics\n",
      "('biology', 'chemistry')\n"
     ]
    }
   ],
   "source": [
    "# Let's take a look at tuple next\n",
    "tuple_subjects = ('physics', 'biology', 'chemistry', 'geography', 'history')\n",
    "\n",
    "# Print the whole tuple\n",
    "print(tuple_subjects)\n",
    "# Print specific element by index number\n",
    "print(tuple_subjects[0])\n",
    "# Print specific range of element \n",
    "print(tuple_subjects[1:3])\n",
    "\n",
    "del tuple_subjects"
   ]
  },
  {
   "cell_type": "markdown",
   "id": "58d64030-b91f-489c-87d4-0e518069111e",
   "metadata": {},
   "source": [
    "<h3>Dictionary</h3>"
   ]
  },
  {
   "cell_type": "code",
   "execution_count": 38,
   "id": "faea8dd0-1a1f-4946-8e18-502e3ff30a60",
   "metadata": {},
   "outputs": [
    {
     "name": "stdout",
     "output_type": "stream",
     "text": [
      "Printing the keys and values in a dictionary\n",
      "Name = Alex\n",
      "Age = 7\n",
      "Programme = Bachelor of Software Engineering\n",
      "\n",
      "Printing the keys in a dictionary\n",
      "Name\n",
      "Age\n",
      "Programme\n",
      "\n",
      "Printing the values in a dictionary\n",
      "Alex\n",
      "7\n",
      "Bachelor of Software Engineering\n",
      "Name = Alex\n",
      "Age = 19\n",
      "Programme = Bachelor of Software Engineering\n",
      "Name = Alex\n",
      "Age = 19\n",
      "Programme = Bachelor of Software Engineering\n",
      "School = Southern University College\n",
      "school = Southern University\n",
      "Name = Alex\n",
      "Age = 19\n",
      "Programme = Bachelor of Software Engineering\n",
      "School = Southern University College\n"
     ]
    },
    {
     "data": {
      "text/plain": [
       "{}"
      ]
     },
     "execution_count": 38,
     "metadata": {},
     "output_type": "execute_result"
    }
   ],
   "source": [
    "# Now let's take a look at dictionary\n",
    "student_info = {\n",
    "    'Name': 'Alex',\n",
    "    'Age': 7,\n",
    "    'Programme': 'Bachelor of Software Engineering'\n",
    "}\n",
    "\n",
    "print(\"Printing the keys and values in a dictionary\")\n",
    "for k, v in student_info.items():\n",
    "    print(f'{k} = {v}')\n",
    "\n",
    "print(\"\\nPrinting the keys in a dictionary\")\n",
    "for key in student_info.keys():\n",
    "    print(key)\n",
    "\n",
    "print(\"\\nPrinting the values in a dictionary\")\n",
    "for value in student_info.values():\n",
    "    print(value)\n",
    "\n",
    "# Updating values of a dictionary\n",
    "student_info['Age'] = 19\n",
    "for k, v in student_info.items():\n",
    "    print(f'{k} = {v}')\n",
    "\n",
    "# Adding new key-value in a dictionary\n",
    "student_info['School'] = 'Southern University College'\n",
    "student_info['school'] = 'Southern University'\n",
    "for k, v in student_info.items():\n",
    "    print(f'{k} = {v}')\n",
    "\n",
    "# Deleting a specific key-value in a dictionary\n",
    "del student_info['school']\n",
    "for k, v in student_info.items():\n",
    "    print(f'{k} = {v}')\n",
    "\n",
    "# Clearing the content of a dictionary\n",
    "student_info.clear()\n",
    "student_info"
   ]
  },
  {
   "cell_type": "markdown",
   "id": "464399e1-d210-4a5d-951f-120d6f43b47a",
   "metadata": {},
   "source": [
    "<h3>Magic 8 Ball</h3>"
   ]
  },
  {
   "cell_type": "markdown",
   "id": "b1957327-7f29-4838-b3a7-a3f144be7cba",
   "metadata": {},
   "source": [
    "Write a program to simulate the Magic 8 Ball. The message options are ‘It is certain’, ‘It is decidedly so’, ‘Yes definitely’, ‘Reply hazy try again’, ‘Ask again later’, ‘Concentrate and ask again’, ‘My reply is no’, ‘Outlook not so good’, and ‘Very doubtful’. Prompt the user to ask for any questions and generate an answer for the user. "
   ]
  },
  {
   "cell_type": "code",
   "execution_count": 40,
   "id": "e9812979-976c-4715-9613-8b273231b08e",
   "metadata": {},
   "outputs": [
    {
     "name": "stdin",
     "output_type": "stream",
     "text": [
      "What is your question?  am i going to pass?\n"
     ]
    },
    {
     "name": "stdout",
     "output_type": "stream",
     "text": [
      "The answer to your question is Yes definitely\n"
     ]
    }
   ],
   "source": [
    "import random\n",
    "messages = [\n",
    "    'It is certain',\n",
    "    'It is decidedly so', \n",
    "    'Yes definitely', \n",
    "    'Reply hazy try again', \n",
    "    'Ask again later', \n",
    "    'Concentrate and ask again', \n",
    "    'My reply is no', \n",
    "    'Outlook not so good', \n",
    "    'Very doubtful'\n",
    "]\n",
    "input('What is your question? ')\n",
    "print(f'The answer to your question is {random.choice(messages)}')"
   ]
  },
  {
   "cell_type": "markdown",
   "id": "19c416cc-e53f-4672-a182-8afd3877409e",
   "metadata": {},
   "source": [
    "<h3>Employee Management</h3>"
   ]
  },
  {
   "cell_type": "markdown",
   "id": "21f0660c-1b80-4178-ac5b-b9bd02281094",
   "metadata": {},
   "source": [
    "Create a list of dictionaries to represent employees. Each dictionary should contain employee ID, name, and department information. Implement functions to add, remove, and update employee information. "
   ]
  },
  {
   "cell_type": "code",
   "execution_count": 99,
   "id": "f33e02c0-669c-45b1-988b-ea6bbbc24a6d",
   "metadata": {},
   "outputs": [],
   "source": [
    "employees = [\n",
    "    {'empid': '001', 'name': 'Hoover', 'dept': 'CS'},\n",
    "    {'empid': '002', 'name': 'Cooper', 'dept': 'CS'},\n",
    "    {'empid': '003', 'name': 'James', 'dept': 'EE'}\n",
    "]\n",
    "\n",
    "def add_new_employee(empid, name, dept):\n",
    "    temp_emp = {'empid': empid, 'name': name, 'dept': dept}\n",
    "    employees.append(temp_emp)\n",
    "    print(f'Successfully added {name} into the list.')\n",
    "\n",
    "def remove_employee(empid):\n",
    "    found = False\n",
    "    # Traverse through the elements in the list\n",
    "    for emp in employees:\n",
    "        # Find the employee ID in the dictionary\n",
    "        if empid in emp.values():\n",
    "            found = True # Found it!\n",
    "            employees.remove(emp) # So we remove it\n",
    "            print(f'Employee {empid} is deleted.')\n",
    "            break # Stop the loop because the employee has been removed anyway\n",
    "\n",
    "    if not found:\n",
    "        print('Employee not found.')\n",
    "\n",
    "def update_employee(empid, newname, newdept):\n",
    "    for emp in employees:\n",
    "        emp.update(('name', newname) for k, v in emp.items() if v == empid)\n",
    "        emp.update(('dept', newdept) for k, v in emp.items() if v == empid)\n",
    "\n",
    "def search_employee1(empid):\n",
    "    found = False\n",
    "    for emp in employees:\n",
    "        if empid in emp.values():\n",
    "            print('Found it!')\n",
    "            return emp\n",
    "            \n",
    "    if not found:\n",
    "        print('Not found.')\n",
    "        return None\n",
    "\n",
    "def search_employee(empid):\n",
    "    found = False\n",
    "    temp = dict()\n",
    "    for emp in employees:\n",
    "        if empid in emp.values():\n",
    "            found = True\n",
    "            temp = emp\n",
    "            \n",
    "    if found:\n",
    "        print('Found it')\n",
    "        return temp\n",
    "    else:\n",
    "        print('Not found.')\n",
    "        return None"
   ]
  },
  {
   "cell_type": "code",
   "execution_count": 101,
   "id": "0e313487-8c26-4b67-90cd-0cc2ee61a267",
   "metadata": {},
   "outputs": [
    {
     "name": "stdout",
     "output_type": "stream",
     "text": [
      "Not found.\n"
     ]
    }
   ],
   "source": [
    "search_employee('006')"
   ]
  },
  {
   "cell_type": "code",
   "execution_count": 81,
   "id": "e536d5d9-4057-4972-8a5f-8c4725abcb14",
   "metadata": {},
   "outputs": [
    {
     "data": {
      "text/plain": [
       "[{'empid': '001', 'name': 'Hoover', 'dept': 'CS'},\n",
       " {'empid': '002', 'name': 'Mickey', 'dept': 'FIN'},\n",
       " {'empid': '003', 'name': 'James', 'dept': 'EE'}]"
      ]
     },
     "execution_count": 81,
     "metadata": {},
     "output_type": "execute_result"
    }
   ],
   "source": [
    "update_employee('005', 'Mickey', 'FIN')\n",
    "employees"
   ]
  },
  {
   "cell_type": "code",
   "execution_count": 76,
   "id": "87e0e367-9c41-4e7c-a9f4-884ed090c117",
   "metadata": {},
   "outputs": [
    {
     "name": "stdout",
     "output_type": "stream",
     "text": [
      "Employee not found.\n"
     ]
    },
    {
     "data": {
      "text/plain": [
       "[{'empid': '002', 'name': 'Cooper', 'dept': 'CS'},\n",
       " {'empid': '003', 'name': 'James', 'dept': 'EE'}]"
      ]
     },
     "execution_count": 76,
     "metadata": {},
     "output_type": "execute_result"
    }
   ],
   "source": [
    "remove_employee('001')\n",
    "employees"
   ]
  },
  {
   "cell_type": "code",
   "execution_count": 50,
   "id": "22165ea7-935f-4d04-9316-3f2238a0d5da",
   "metadata": {},
   "outputs": [
    {
     "name": "stdout",
     "output_type": "stream",
     "text": [
      "Successfully added May into the list.\n"
     ]
    },
    {
     "data": {
      "text/plain": [
       "[{'empid': '001', 'name': 'Hoover', 'dept': 'CS'},\n",
       " {'empid': '002', 'name': 'Cooper', 'dept': 'CS'},\n",
       " {'empid': '003', 'name': 'James', 'dept': 'EE'},\n",
       " {'empid': '004', 'name': 'May', 'dept': 'HR'}]"
      ]
     },
     "execution_count": 50,
     "metadata": {},
     "output_type": "execute_result"
    }
   ],
   "source": [
    "add_new_employee('004', 'May', 'HR')\n",
    "employees"
   ]
  },
  {
   "cell_type": "code",
   "execution_count": null,
   "id": "955d4b53-9ac9-431f-a1d9-0945b3da026f",
   "metadata": {},
   "outputs": [],
   "source": []
  }
 ],
 "metadata": {
  "kernelspec": {
   "display_name": "Python 3 (ipykernel)",
   "language": "python",
   "name": "python3"
  },
  "language_info": {
   "codemirror_mode": {
    "name": "ipython",
    "version": 3
   },
   "file_extension": ".py",
   "mimetype": "text/x-python",
   "name": "python",
   "nbconvert_exporter": "python",
   "pygments_lexer": "ipython3",
   "version": "3.11.7"
  }
 },
 "nbformat": 4,
 "nbformat_minor": 5
}
