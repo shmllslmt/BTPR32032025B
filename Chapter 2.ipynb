{
 "cells": [
  {
   "cell_type": "markdown",
   "id": "71eab99c-b039-4ee4-8e25-be2d67413405",
   "metadata": {},
   "source": [
    "<h1>Chapter 2</h1>\n",
    "<li>Branching</li>\n",
    "<li>Looping</li>"
   ]
  },
  {
   "cell_type": "markdown",
   "id": "895df85f-3aa2-4128-9d85-78ff67b43737",
   "metadata": {},
   "source": [
    "Write a program that takes a number as input and determines whether it’s even or odd."
   ]
  },
  {
   "cell_type": "code",
   "execution_count": 1,
   "id": "13aab12c-2b17-4490-ad19-ad0eb3fb0080",
   "metadata": {},
   "outputs": [
    {
     "name": "stdin",
     "output_type": "stream",
     "text": [
      "Give a number 9\n"
     ]
    },
    {
     "name": "stdout",
     "output_type": "stream",
     "text": [
      "Odd Number!\n"
     ]
    }
   ],
   "source": [
    "num = int(input(\"Give a number\"))\n",
    "\n",
    "if num % 2 == 0:\n",
    "    print(\"Even Number!\")\n",
    "else:\n",
    "    print(\"Odd Number!\")"
   ]
  },
  {
   "cell_type": "markdown",
   "id": "1b42cb4d-b7cd-4227-9c24-33d67714d4b4",
   "metadata": {},
   "source": [
    "Develop a game where the computer generates a random number between 1 and 100, and the user has to guess it. Provide feedback to the user if their guess is too high, too low, or correct.\n"
   ]
  },
  {
   "cell_type": "code",
   "execution_count": 10,
   "id": "6bbf4670-a5bf-485b-847e-7632aca95a42",
   "metadata": {},
   "outputs": [
    {
     "name": "stdout",
     "output_type": "stream",
     "text": [
      "83\n"
     ]
    },
    {
     "name": "stdin",
     "output_type": "stream",
     "text": [
      "Guess a number:  5\n"
     ]
    },
    {
     "name": "stdout",
     "output_type": "stream",
     "text": [
      "Oppps, you guessed wrong!\n",
      "Too low\n"
     ]
    },
    {
     "name": "stdin",
     "output_type": "stream",
     "text": [
      "Guess a number:  83\n"
     ]
    },
    {
     "name": "stdout",
     "output_type": "stream",
     "text": [
      "Congratulations! You guessed it right!\n"
     ]
    }
   ],
   "source": [
    "# using the class random, specifically the randint function\n",
    "from random import randint\n",
    "\n",
    "comp_num = randint(1, 100)\n",
    "print(comp_num) # for testing purposes\n",
    "\n",
    "while True:\n",
    "    user_num = int(input(\"Guess a number: \"))\n",
    "    \n",
    "    if user_num != comp_num:\n",
    "        print(\"Oppps, you guessed wrong!\")\n",
    "        if user_num > comp_num:\n",
    "            print(\"Too high!\")\n",
    "        else:\n",
    "            print(\"Too low\")\n",
    "    else: \n",
    "        print(\"Congratulations! You guessed it right!\")\n",
    "        break"
   ]
  },
  {
   "cell_type": "markdown",
   "id": "a83a301b-27b7-41c5-8444-6b90ca32dea2",
   "metadata": {},
   "source": [
    "Write a program that takes a household’s daily water consumption in litres as input."
   ]
  },
  {
   "cell_type": "code",
   "execution_count": 17,
   "id": "56070995-6a10-45a0-a850-5cf1c6f3ff05",
   "metadata": {},
   "outputs": [
    {
     "name": "stdin",
     "output_type": "stream",
     "text": [
      "How much water do you consume in a day (l):  500\n"
     ]
    },
    {
     "name": "stdout",
     "output_type": "stream",
     "text": [
      "High consumption. Consider water-saving tips!\n"
     ]
    }
   ],
   "source": [
    "water_consumption = int(input(\"How much water do you consume in a day (l): \"))\n",
    "\n",
    "if water_consumption < 100:\n",
    "    print(\"Excellent! Your household is a Water Saver.\")\n",
    "elif water_consumption < 201:\n",
    "    print(\"Good job! Moderate consumption.\")\n",
    "else:\n",
    "    print(\"High consumption. Consider water-saving tips!\")"
   ]
  },
  {
   "cell_type": "markdown",
   "id": "677f990e-7bec-46f5-91d6-cc4d2e3e7aa3",
   "metadata": {},
   "source": [
    "You are given a list representing the plastic waste collected each day of the week: [45.5, 52.0, 38.7, 61.2, 49.0, 55.1, 40.8]. The daily target is <b>50</b> kg. Write a program containing a loop statement that iterates through this list. For each day’s collection, if the plastic collection for that day <b>meets or exceeds 50</b> kg, print: “Day X: Target Met! Collected Y kg.” Otherwise, print: “Day X: Below Target! Collected Y kg Only.” "
   ]
  },
  {
   "cell_type": "code",
   "execution_count": 33,
   "id": "105bfc90-3531-4c90-afa8-ecb404335b0a",
   "metadata": {},
   "outputs": [
    {
     "name": "stdout",
     "output_type": "stream",
     "text": [
      "Day 1: Below Target! Collected 45.5kg Only\n",
      "Day 2: Target Met! Collected 52.0kg\n",
      "Day 3: Below Target! Collected 38.7kg Only\n",
      "Day 4: Target Met! Collected 61.2kg\n",
      "Day 5: Below Target! Collected 49.0kg Only\n",
      "Day 6: Target Met! Collected 55.1kg\n",
      "Day 7: Below Target! Collected 40.8kg Only\n",
      "******************************************\n",
      "Days Met Target: 3\n",
      "Days Below Target: 4\n"
     ]
    }
   ],
   "source": [
    "# A list structure uses [] equivalent to an array in java\n",
    "# A tuple uses ()\n",
    "# A dictionary uses {}\n",
    "\n",
    "week_list = [45.5, 52.0, 38.7, 61.2, 49.0, 55.1, 40.8]\n",
    "day_in_week = 1\n",
    "target_met = 0\n",
    "\n",
    "# for loop in python is similar and can only be used as for-each loop\n",
    "for day in week_list:\n",
    "    if day >= 50:\n",
    "        print(f\"Day {day_in_week}: Target Met! Collected {day}kg\")\n",
    "        target_met += 1\n",
    "    else:\n",
    "        print(f\"Day {day_in_week}: Below Target! Collected {day}kg Only\")\n",
    "    day_in_week += 1\n",
    "\n",
    "print(\"******************************************\")\n",
    "print(f\"Days Met Target: {target_met}\")\n",
    "print(f\"Days Below Target: {7-target_met}\")"
   ]
  },
  {
   "cell_type": "markdown",
   "id": "4205630d-e281-4657-8ae8-cfb9927d7c28",
   "metadata": {},
   "source": [
    "Imagine a smart home system that monitors the energy usage of several appliances. You have a list of hourly energy consumption readings (in kWh) for a specific appliance over a day: [0.5, 0.6, 0.7, 0.8, 1.0, 1.2, 1.5, 1.8, 2.0, 2.1, 1.9, 1.7, 1.4, 1.1, 0.9, 0.7, 0.6, 0.5, 0.4, 0.3, 0.2, 0.2, 0.1, 0.1]. The peak hour threshold for a single appliance is 1.5 kWh. Write a program to: \n",
    "<li>Identify and count how many hours the appliance exceeded the peak hour threshold.</li>\n",
    "<li>Print a message for each hour that exceeded the threshold. For example, if consumption is greater than 1.5 kWh but less than or equal to 1.8 kWh, print “Consider reducing usage.” If greater than  1.8 kWh, print “High usage detected! Critical reduction needed.”</li>"
   ]
  },
  {
   "cell_type": "code",
   "execution_count": 38,
   "id": "1deb7614-9bed-40cf-9de9-0ff43e418c0f",
   "metadata": {},
   "outputs": [
    {
     "name": "stdout",
     "output_type": "stream",
     "text": [
      "Consider reducing usage at hour 8.\n",
      "High usage detected! Critical reduction needed at hour 9.\n",
      "High usage detected! Critical reduction needed at hour 10.\n",
      "High usage detected! Critical reduction needed at hour 11.\n",
      "Consider reducing usage at hour 12.\n",
      "**********************************************************************\n",
      "In a day, the appliance exceeded the peak hour threshold for 5 hours.\n"
     ]
    }
   ],
   "source": [
    "day_reading = [0.5, 0.6, 0.7, 0.8, 1.0, 1.2, 1.5, 1.8, 2.0, 2.1, 1.9, 1.7, 1.4, 1.1, 0.9, 0.7, 0.6, 0.5, 0.4, 0.3, 0.2, 0.2, 0.1, 0.1]\n",
    "count = 0\n",
    "hour = 0\n",
    "\n",
    "for hour_reading in day_reading:\n",
    "    hour += 1\n",
    "    if hour_reading > 1.5:\n",
    "        count += 1\n",
    "        if hour_reading <= 1.8:\n",
    "            print(f\"Consider reducing usage at hour {hour}.\")\n",
    "        else:\n",
    "            print(f\"High usage detected! Critical reduction needed at hour {hour}.\")\n",
    "print(\"**********************************************************************\")\n",
    "print(f\"In a day, the appliance exceeded the peak hour threshold for {count} hours.\")"
   ]
  },
  {
   "cell_type": "markdown",
   "id": "46d3fff1-7ea8-43d2-b24a-ce6d0f1d7d9b",
   "metadata": {},
   "source": [
    "Write a program that takes the income of each household member as input. Find the mean income. Then, use branching statements to determine and print the corresponding Malaysian income group (and sub-group) for the calculated mean household income based on the table."
   ]
  },
  {
   "cell_type": "code",
   "execution_count": 22,
   "id": "15fe8be7-49d4-40ea-828d-c0e6a35c4dc9",
   "metadata": {},
   "outputs": [
    {
     "name": "stdin",
     "output_type": "stream",
     "text": [
      "How much does your family member 1 earn (or 0 to stop)?  10000\n",
      "How much does your family member 2 earn (or 0 to stop)?  5000\n",
      "How much does your family member 3 earn (or 0 to stop)?  0\n"
     ]
    },
    {
     "name": "stdout",
     "output_type": "stream",
     "text": [
      "The mean household income of your family is 7500.00\n",
      "Your income group is M3\n"
     ]
    }
   ],
   "source": [
    "counter = 0\n",
    "total = 0\n",
    "\n",
    "while True:\n",
    "    salary = float(input(f\"How much does your family member {counter+1} earn (or 0 to stop)? \"))\n",
    "\n",
    "    if salary == 0:\n",
    "        break\n",
    "    else:\n",
    "        total += salary\n",
    "        counter += 1\n",
    "\n",
    "if counter > 0:\n",
    "    average = total/counter\n",
    "    print(f\"The mean household income of your family is {average:.2f}\")\n",
    "\n",
    "if average < 2500:\n",
    "    income_group = \"B1\"\n",
    "elif average >= 2500 and average < 3170:\n",
    "    income_group = \"B2\"\n",
    "elif average >= 3170 and average < 3970:\n",
    "    income_group = \"B3\"\n",
    "elif average >= 3970 and average < 4850:\n",
    "    income_group = \"B4\"\n",
    "elif average >= 4850 and average < 5880:\n",
    "    income_group = \"M1\"\n",
    "elif average >= 5880 and average < 7100:\n",
    "    income_group = \"M2\"\n",
    "elif average >= 7100 and average < 8700:\n",
    "    income_group = \"M3\"\n",
    "elif average >= 8700 and average < 10960:\n",
    "    income_group = \"M4\"\n",
    "elif average >= 10960 and average < 15040:\n",
    "    income_group = \"T1\"\n",
    "else:\n",
    "    income_group = \"T2\"\n",
    "\n",
    "print(f\"Your income group is {income_group}\")"
   ]
  },
  {
   "cell_type": "markdown",
   "id": "0e42b821-83b0-4d3a-944c-148dcbcefc60",
   "metadata": {},
   "source": [
    "Write a program that continually prompts the user to enter a feedback rating (from 1 to 5). The program should use a while loop and stop prompting when the user enters ‘0’ (zero). After the user indicates they are finished, print the total number of “Excellent” ratings (5), “Good” ratings (4), “Average” ratings (3), “Poor” ratings (2) and “Very Poor” ratings (1) received. "
   ]
  },
  {
   "cell_type": "code",
   "execution_count": 41,
   "id": "d5a6a8cf-0628-4429-a50d-f7cc9591709e",
   "metadata": {},
   "outputs": [
    {
     "name": "stdin",
     "output_type": "stream",
     "text": [
      "How would you rate this movie (1-5)? 0 to stop 9\n"
     ]
    },
    {
     "name": "stdout",
     "output_type": "stream",
     "text": [
      "Opps invalid rating!\n"
     ]
    },
    {
     "name": "stdin",
     "output_type": "stream",
     "text": [
      "How would you rate this movie (1-5)? 0 to stop 9\n"
     ]
    },
    {
     "name": "stdout",
     "output_type": "stream",
     "text": [
      "Opps invalid rating!\n"
     ]
    },
    {
     "name": "stdin",
     "output_type": "stream",
     "text": [
      "How would you rate this movie (1-5)? 0 to stop 8\n"
     ]
    },
    {
     "name": "stdout",
     "output_type": "stream",
     "text": [
      "Opps invalid rating!\n"
     ]
    },
    {
     "name": "stdin",
     "output_type": "stream",
     "text": [
      "How would you rate this movie (1-5)? 0 to stop 2\n",
      "How would you rate this movie (1-5)? 0 to stop 1\n",
      "How would you rate this movie (1-5)? 0 to stop 1\n",
      "How would you rate this movie (1-5)? 0 to stop 1\n",
      "How would you rate this movie (1-5)? 0 to stop 5\n",
      "How would you rate this movie (1-5)? 0 to stop 0\n"
     ]
    },
    {
     "name": "stdout",
     "output_type": "stream",
     "text": [
      "Total Excellent Rating: 1\n",
      "Total Good Rating: 0\n",
      "Total Average Rating: 0\n",
      "Total Poor Rating: 1\n",
      "Total Very Poor Rating: 3\n",
      "Total Invalid Rating: 3\n"
     ]
    }
   ],
   "source": [
    "excellent = 0\n",
    "good = 0\n",
    "average = 0\n",
    "poor = 0\n",
    "very_poor = 0\n",
    "invalid = 0\n",
    "\n",
    "while True:\n",
    "    rating = int(input(\"How would you rate this movie (1-5)? 0 to stop\"))\n",
    "\n",
    "    match rating:\n",
    "        case 0: break\n",
    "        case 5:\n",
    "            excellent += 1\n",
    "        case 4:\n",
    "            good += 1\n",
    "        case 3:\n",
    "            average += 1\n",
    "        case 2:\n",
    "            poor += 1\n",
    "        case 1:\n",
    "            very_poor += 1\n",
    "        case _:\n",
    "            print(\"Opps invalid rating!\")\n",
    "            invalid += 1\n",
    "\n",
    "print(f\"Total Excellent Rating: {excellent}\")\n",
    "print(f\"Total Good Rating: {good}\")\n",
    "print(f\"Total Average Rating: {average}\")\n",
    "print(f\"Total Poor Rating: {poor}\")\n",
    "print(f\"Total Very Poor Rating: {very_poor}\")            \n",
    "print(f\"Total Invalid Rating: {invalid}\")    "
   ]
  },
  {
   "cell_type": "code",
   "execution_count": null,
   "id": "7ab11abc-f2eb-459c-b0ac-c0bb047a425f",
   "metadata": {},
   "outputs": [],
   "source": []
  }
 ],
 "metadata": {
  "kernelspec": {
   "display_name": "Python 3 (ipykernel)",
   "language": "python",
   "name": "python3"
  },
  "language_info": {
   "codemirror_mode": {
    "name": "ipython",
    "version": 3
   },
   "file_extension": ".py",
   "mimetype": "text/x-python",
   "name": "python",
   "nbconvert_exporter": "python",
   "pygments_lexer": "ipython3",
   "version": "3.11.7"
  }
 },
 "nbformat": 4,
 "nbformat_minor": 5
}
