{
 "cells": [
  {
   "cell_type": "markdown",
   "id": "b0352a1c-6413-4c5c-ab96-562c9c17d6ac",
   "metadata": {},
   "source": [
    "<h1>NumPy Arrays</h1>"
   ]
  },
  {
   "cell_type": "code",
   "execution_count": 12,
   "id": "c0eef534-d1ae-467d-983c-3f4ae5fb3bc4",
   "metadata": {},
   "outputs": [
    {
     "data": {
      "text/plain": [
       "[0, 1, 2, 3, 4, 5, 6, 7, 8, 9, 10]"
      ]
     },
     "execution_count": 12,
     "metadata": {},
     "output_type": "execute_result"
    }
   ],
   "source": [
    "import numpy as np\n",
    "\n",
    "pythonlist = [0, 1, 2, 3, 4, 5, 6, 7, 8, 9, 10]\n",
    "# concatenation\n",
    "# pythonlist = pythonlist + pythonlist\n",
    "# repetition\n",
    "# pythonlist = pythonlist * 4\n",
    "pythonlist"
   ]
  },
  {
   "cell_type": "code",
   "execution_count": 15,
   "id": "6a21e17e-7942-4c0e-8232-783d45ed2731",
   "metadata": {},
   "outputs": [
    {
     "data": {
      "text/plain": [
       "array([ 0,  1,  2,  3,  4,  5,  6,  7,  8,  9, 10])"
      ]
     },
     "execution_count": 15,
     "metadata": {},
     "output_type": "execute_result"
    }
   ],
   "source": [
    "numpyarray = np.array([0, 1, 2, 3, 4, 5, 6, 7, 8, 9, 10])\n",
    "# mathematical operation to the NumPy array element\n",
    "# numpyarray = numpyarray + numpyarray\n",
    "# numpyarray = numpyarray * numpyarray\n",
    "# numpyarray = numpyarray * numpyarray\n",
    "numpyarray"
   ]
  },
  {
   "cell_type": "markdown",
   "id": "1478a37f-f800-482c-9ebc-3a550a0212cf",
   "metadata": {},
   "source": [
    "<h1>Pandas</h1>\n",
    "<h2>Practice Questions</h2>"
   ]
  },
  {
   "cell_type": "markdown",
   "id": "b90d2de3-ef77-4d0b-b43e-f7710cd67d60",
   "metadata": {},
   "source": [
    "<h3>Bookstore Sales Data</h3>"
   ]
  },
  {
   "cell_type": "code",
   "execution_count": 23,
   "id": "f709d31e-0c54-4485-9402-cbd0274948d0",
   "metadata": {},
   "outputs": [
    {
     "data": {
      "text/html": [
       "<div>\n",
       "<style scoped>\n",
       "    .dataframe tbody tr th:only-of-type {\n",
       "        vertical-align: middle;\n",
       "    }\n",
       "\n",
       "    .dataframe tbody tr th {\n",
       "        vertical-align: top;\n",
       "    }\n",
       "\n",
       "    .dataframe thead th {\n",
       "        text-align: right;\n",
       "    }\n",
       "</style>\n",
       "<table border=\"1\" class=\"dataframe\">\n",
       "  <thead>\n",
       "    <tr style=\"text-align: right;\">\n",
       "      <th></th>\n",
       "      <th>Product</th>\n",
       "      <th>Quantity</th>\n",
       "      <th>Price</th>\n",
       "    </tr>\n",
       "  </thead>\n",
       "  <tbody>\n",
       "    <tr>\n",
       "      <th>0</th>\n",
       "      <td>Book1</td>\n",
       "      <td>10</td>\n",
       "      <td>19.99</td>\n",
       "    </tr>\n",
       "    <tr>\n",
       "      <th>1</th>\n",
       "      <td>Book2</td>\n",
       "      <td>15</td>\n",
       "      <td>24.99</td>\n",
       "    </tr>\n",
       "    <tr>\n",
       "      <th>2</th>\n",
       "      <td>Book3</td>\n",
       "      <td>8</td>\n",
       "      <td>12.99</td>\n",
       "    </tr>\n",
       "  </tbody>\n",
       "</table>\n",
       "</div>"
      ],
      "text/plain": [
       "  Product  Quantity  Price\n",
       "0   Book1        10  19.99\n",
       "1   Book2        15  24.99\n",
       "2   Book3         8  12.99"
      ]
     },
     "execution_count": 23,
     "metadata": {},
     "output_type": "execute_result"
    }
   ],
   "source": [
    "import pandas as pd\n",
    "sales_data_a = pd.DataFrame({ \n",
    "    'Product': ['Book1', 'Book2', 'Book3'], \n",
    "    'Quantity': [10, 15, 8], \n",
    "    'Price': [19.99, 24.99, 12.99] \n",
    "})\n",
    "sales_data_a"
   ]
  },
  {
   "cell_type": "code",
   "execution_count": 94,
   "id": "5df4e926-9396-4c7b-b6f3-272a406e4a03",
   "metadata": {},
   "outputs": [
    {
     "data": {
      "text/html": [
       "<div>\n",
       "<style scoped>\n",
       "    .dataframe tbody tr th:only-of-type {\n",
       "        vertical-align: middle;\n",
       "    }\n",
       "\n",
       "    .dataframe tbody tr th {\n",
       "        vertical-align: top;\n",
       "    }\n",
       "\n",
       "    .dataframe thead th {\n",
       "        text-align: right;\n",
       "    }\n",
       "</style>\n",
       "<table border=\"1\" class=\"dataframe\">\n",
       "  <thead>\n",
       "    <tr style=\"text-align: right;\">\n",
       "      <th></th>\n",
       "      <th>Product</th>\n",
       "      <th>Quantity</th>\n",
       "      <th>Price</th>\n",
       "    </tr>\n",
       "  </thead>\n",
       "  <tbody>\n",
       "    <tr>\n",
       "      <th>0</th>\n",
       "      <td>Book2</td>\n",
       "      <td>7</td>\n",
       "      <td>24.99</td>\n",
       "    </tr>\n",
       "    <tr>\n",
       "      <th>1</th>\n",
       "      <td>Book4</td>\n",
       "      <td>12</td>\n",
       "      <td>39.99</td>\n",
       "    </tr>\n",
       "    <tr>\n",
       "      <th>2</th>\n",
       "      <td>Book5</td>\n",
       "      <td>5</td>\n",
       "      <td>15.99</td>\n",
       "    </tr>\n",
       "  </tbody>\n",
       "</table>\n",
       "</div>"
      ],
      "text/plain": [
       "  Product  Quantity  Price\n",
       "0   Book2         7  24.99\n",
       "1   Book4        12  39.99\n",
       "2   Book5         5  15.99"
      ]
     },
     "execution_count": 94,
     "metadata": {},
     "output_type": "execute_result"
    }
   ],
   "source": [
    "sales_data_b = pd.DataFrame({ \n",
    "    'Product': ['Book2', 'Book4', 'Book5'], \n",
    "    'Quantity': [7, 12, 5], \n",
    "    'Price': [24.99, 39.99, 15.99] \n",
    "}) \n",
    "sales_data_b"
   ]
  },
  {
   "cell_type": "code",
   "execution_count": 95,
   "id": "fc9a84cf-37ef-43a0-8022-9edddd82b838",
   "metadata": {},
   "outputs": [
    {
     "data": {
      "text/html": [
       "<div>\n",
       "<style scoped>\n",
       "    .dataframe tbody tr th:only-of-type {\n",
       "        vertical-align: middle;\n",
       "    }\n",
       "\n",
       "    .dataframe tbody tr th {\n",
       "        vertical-align: top;\n",
       "    }\n",
       "\n",
       "    .dataframe thead th {\n",
       "        text-align: right;\n",
       "    }\n",
       "</style>\n",
       "<table border=\"1\" class=\"dataframe\">\n",
       "  <thead>\n",
       "    <tr style=\"text-align: right;\">\n",
       "      <th></th>\n",
       "      <th>Product</th>\n",
       "      <th>Quantity</th>\n",
       "      <th>Price</th>\n",
       "    </tr>\n",
       "  </thead>\n",
       "  <tbody>\n",
       "    <tr>\n",
       "      <th>0</th>\n",
       "      <td>Book1</td>\n",
       "      <td>10</td>\n",
       "      <td>19.99</td>\n",
       "    </tr>\n",
       "    <tr>\n",
       "      <th>1</th>\n",
       "      <td>Book2</td>\n",
       "      <td>15</td>\n",
       "      <td>24.99</td>\n",
       "    </tr>\n",
       "    <tr>\n",
       "      <th>2</th>\n",
       "      <td>Book3</td>\n",
       "      <td>8</td>\n",
       "      <td>12.99</td>\n",
       "    </tr>\n",
       "    <tr>\n",
       "      <th>3</th>\n",
       "      <td>Book2</td>\n",
       "      <td>7</td>\n",
       "      <td>24.99</td>\n",
       "    </tr>\n",
       "    <tr>\n",
       "      <th>4</th>\n",
       "      <td>Book4</td>\n",
       "      <td>12</td>\n",
       "      <td>39.99</td>\n",
       "    </tr>\n",
       "    <tr>\n",
       "      <th>5</th>\n",
       "      <td>Book5</td>\n",
       "      <td>5</td>\n",
       "      <td>15.99</td>\n",
       "    </tr>\n",
       "  </tbody>\n",
       "</table>\n",
       "</div>"
      ],
      "text/plain": [
       "  Product  Quantity  Price\n",
       "0   Book1        10  19.99\n",
       "1   Book2        15  24.99\n",
       "2   Book3         8  12.99\n",
       "3   Book2         7  24.99\n",
       "4   Book4        12  39.99\n",
       "5   Book5         5  15.99"
      ]
     },
     "execution_count": 95,
     "metadata": {},
     "output_type": "execute_result"
    }
   ],
   "source": [
    "# vertical concatenation\n",
    "sales_data_c = pd.concat([sales_data_a, sales_data_b], axis=0, ignore_index=True)\n",
    "sales_data_c"
   ]
  },
  {
   "cell_type": "code",
   "execution_count": 96,
   "id": "50f3bee5-d261-49a1-a2fd-5cc035ccef18",
   "metadata": {},
   "outputs": [
    {
     "data": {
      "text/html": [
       "<div>\n",
       "<style scoped>\n",
       "    .dataframe tbody tr th:only-of-type {\n",
       "        vertical-align: middle;\n",
       "    }\n",
       "\n",
       "    .dataframe tbody tr th {\n",
       "        vertical-align: top;\n",
       "    }\n",
       "\n",
       "    .dataframe thead th {\n",
       "        text-align: right;\n",
       "    }\n",
       "</style>\n",
       "<table border=\"1\" class=\"dataframe\">\n",
       "  <thead>\n",
       "    <tr style=\"text-align: right;\">\n",
       "      <th></th>\n",
       "      <th>Product</th>\n",
       "      <th>Quantity</th>\n",
       "      <th>Price</th>\n",
       "      <th>Product</th>\n",
       "      <th>Quantity</th>\n",
       "      <th>Price</th>\n",
       "    </tr>\n",
       "  </thead>\n",
       "  <tbody>\n",
       "    <tr>\n",
       "      <th>0</th>\n",
       "      <td>Book1</td>\n",
       "      <td>10</td>\n",
       "      <td>19.99</td>\n",
       "      <td>Book2</td>\n",
       "      <td>7</td>\n",
       "      <td>24.99</td>\n",
       "    </tr>\n",
       "    <tr>\n",
       "      <th>1</th>\n",
       "      <td>Book2</td>\n",
       "      <td>15</td>\n",
       "      <td>24.99</td>\n",
       "      <td>Book4</td>\n",
       "      <td>12</td>\n",
       "      <td>39.99</td>\n",
       "    </tr>\n",
       "    <tr>\n",
       "      <th>2</th>\n",
       "      <td>Book3</td>\n",
       "      <td>8</td>\n",
       "      <td>12.99</td>\n",
       "      <td>Book5</td>\n",
       "      <td>5</td>\n",
       "      <td>15.99</td>\n",
       "    </tr>\n",
       "  </tbody>\n",
       "</table>\n",
       "</div>"
      ],
      "text/plain": [
       "  Product  Quantity  Price Product  Quantity  Price\n",
       "0   Book1        10  19.99   Book2         7  24.99\n",
       "1   Book2        15  24.99   Book4        12  39.99\n",
       "2   Book3         8  12.99   Book5         5  15.99"
      ]
     },
     "execution_count": 96,
     "metadata": {},
     "output_type": "execute_result"
    }
   ],
   "source": [
    "# horizontal concatenation\n",
    "sales_data_c = pd.concat([sales_data_a, sales_data_b], axis=1)\n",
    "sales_data_c"
   ]
  },
  {
   "cell_type": "markdown",
   "id": "826e9c39-df29-44ee-8719-772e86d4854f",
   "metadata": {},
   "source": [
    "<h3>Customer Purchase History</h3>"
   ]
  },
  {
   "cell_type": "code",
   "execution_count": 97,
   "id": "70d09f42-d3e2-4d19-a59c-95f14a690c88",
   "metadata": {},
   "outputs": [
    {
     "data": {
      "text/html": [
       "<div>\n",
       "<style scoped>\n",
       "    .dataframe tbody tr th:only-of-type {\n",
       "        vertical-align: middle;\n",
       "    }\n",
       "\n",
       "    .dataframe tbody tr th {\n",
       "        vertical-align: top;\n",
       "    }\n",
       "\n",
       "    .dataframe thead th {\n",
       "        text-align: right;\n",
       "    }\n",
       "</style>\n",
       "<table border=\"1\" class=\"dataframe\">\n",
       "  <thead>\n",
       "    <tr style=\"text-align: right;\">\n",
       "      <th></th>\n",
       "      <th>Customer ID</th>\n",
       "      <th>Name</th>\n",
       "      <th>City</th>\n",
       "    </tr>\n",
       "  </thead>\n",
       "  <tbody>\n",
       "    <tr>\n",
       "      <th>0</th>\n",
       "      <td>101</td>\n",
       "      <td>Alice</td>\n",
       "      <td>New York</td>\n",
       "    </tr>\n",
       "    <tr>\n",
       "      <th>1</th>\n",
       "      <td>102</td>\n",
       "      <td>Bob</td>\n",
       "      <td>Los Angeles</td>\n",
       "    </tr>\n",
       "    <tr>\n",
       "      <th>2</th>\n",
       "      <td>103</td>\n",
       "      <td>Charlie</td>\n",
       "      <td>Chicago</td>\n",
       "    </tr>\n",
       "    <tr>\n",
       "      <th>3</th>\n",
       "      <td>104</td>\n",
       "      <td>David</td>\n",
       "      <td>Houston</td>\n",
       "    </tr>\n",
       "  </tbody>\n",
       "</table>\n",
       "</div>"
      ],
      "text/plain": [
       "   Customer ID     Name         City\n",
       "0          101    Alice     New York\n",
       "1          102      Bob  Los Angeles\n",
       "2          103  Charlie      Chicago\n",
       "3          104    David      Houston"
      ]
     },
     "execution_count": 97,
     "metadata": {},
     "output_type": "execute_result"
    }
   ],
   "source": [
    "customer_data = pd.DataFrame({ \n",
    "    'Customer ID': [101, 102, 103, 104], \n",
    "    'Name': ['Alice', 'Bob', 'Charlie', 'David'], \n",
    "    'City': ['New York', 'Los Angeles', 'Chicago', 'Houston'] \n",
    "}) \n",
    "customer_data"
   ]
  },
  {
   "cell_type": "code",
   "execution_count": 98,
   "id": "a48dd3f6-816a-46a0-ae9d-fd534d3b8afe",
   "metadata": {},
   "outputs": [
    {
     "data": {
      "text/html": [
       "<div>\n",
       "<style scoped>\n",
       "    .dataframe tbody tr th:only-of-type {\n",
       "        vertical-align: middle;\n",
       "    }\n",
       "\n",
       "    .dataframe tbody tr th {\n",
       "        vertical-align: top;\n",
       "    }\n",
       "\n",
       "    .dataframe thead th {\n",
       "        text-align: right;\n",
       "    }\n",
       "</style>\n",
       "<table border=\"1\" class=\"dataframe\">\n",
       "  <thead>\n",
       "    <tr style=\"text-align: right;\">\n",
       "      <th></th>\n",
       "      <th>Customer ID</th>\n",
       "      <th>Product</th>\n",
       "      <th>Purchase Date</th>\n",
       "    </tr>\n",
       "  </thead>\n",
       "  <tbody>\n",
       "    <tr>\n",
       "      <th>0</th>\n",
       "      <td>101</td>\n",
       "      <td>Product A</td>\n",
       "      <td>2023-01-01</td>\n",
       "    </tr>\n",
       "    <tr>\n",
       "      <th>1</th>\n",
       "      <td>102</td>\n",
       "      <td>Product B</td>\n",
       "      <td>2023-02-05</td>\n",
       "    </tr>\n",
       "    <tr>\n",
       "      <th>2</th>\n",
       "      <td>103</td>\n",
       "      <td>Product C</td>\n",
       "      <td>2023-03-10</td>\n",
       "    </tr>\n",
       "    <tr>\n",
       "      <th>3</th>\n",
       "      <td>105</td>\n",
       "      <td>Product C</td>\n",
       "      <td>2023-03-10</td>\n",
       "    </tr>\n",
       "  </tbody>\n",
       "</table>\n",
       "</div>"
      ],
      "text/plain": [
       "   Customer ID    Product Purchase Date\n",
       "0          101  Product A    2023-01-01\n",
       "1          102  Product B    2023-02-05\n",
       "2          103  Product C    2023-03-10\n",
       "3          105  Product C    2023-03-10"
      ]
     },
     "execution_count": 98,
     "metadata": {},
     "output_type": "execute_result"
    }
   ],
   "source": [
    "purchase_data = pd.DataFrame({ \n",
    "    'Customer ID': [101, 102, 103, 105], \n",
    "    'Product': ['Product A', 'Product B', 'Product C', 'Product C'], \n",
    "    'Purchase Date': ['2023-01-01', '2023-02-05', '2023-03-10', '2023-03-10'] \n",
    "}) \n",
    "purchase_data"
   ]
  },
  {
   "cell_type": "code",
   "execution_count": 99,
   "id": "9b2d6378-00f3-4fe0-a026-055d3b964f76",
   "metadata": {},
   "outputs": [
    {
     "data": {
      "text/html": [
       "<div>\n",
       "<style scoped>\n",
       "    .dataframe tbody tr th:only-of-type {\n",
       "        vertical-align: middle;\n",
       "    }\n",
       "\n",
       "    .dataframe tbody tr th {\n",
       "        vertical-align: top;\n",
       "    }\n",
       "\n",
       "    .dataframe thead th {\n",
       "        text-align: right;\n",
       "    }\n",
       "</style>\n",
       "<table border=\"1\" class=\"dataframe\">\n",
       "  <thead>\n",
       "    <tr style=\"text-align: right;\">\n",
       "      <th></th>\n",
       "      <th>Customer ID</th>\n",
       "      <th>Name</th>\n",
       "      <th>City</th>\n",
       "      <th>Product</th>\n",
       "      <th>Purchase Date</th>\n",
       "    </tr>\n",
       "  </thead>\n",
       "  <tbody>\n",
       "    <tr>\n",
       "      <th>0</th>\n",
       "      <td>101</td>\n",
       "      <td>Alice</td>\n",
       "      <td>New York</td>\n",
       "      <td>Product A</td>\n",
       "      <td>2023-01-01</td>\n",
       "    </tr>\n",
       "    <tr>\n",
       "      <th>1</th>\n",
       "      <td>102</td>\n",
       "      <td>Bob</td>\n",
       "      <td>Los Angeles</td>\n",
       "      <td>Product B</td>\n",
       "      <td>2023-02-05</td>\n",
       "    </tr>\n",
       "    <tr>\n",
       "      <th>2</th>\n",
       "      <td>103</td>\n",
       "      <td>Charlie</td>\n",
       "      <td>Chicago</td>\n",
       "      <td>Product C</td>\n",
       "      <td>2023-03-10</td>\n",
       "    </tr>\n",
       "    <tr>\n",
       "      <th>3</th>\n",
       "      <td>105</td>\n",
       "      <td>NaN</td>\n",
       "      <td>NaN</td>\n",
       "      <td>Product C</td>\n",
       "      <td>2023-03-10</td>\n",
       "    </tr>\n",
       "  </tbody>\n",
       "</table>\n",
       "</div>"
      ],
      "text/plain": [
       "   Customer ID     Name         City    Product Purchase Date\n",
       "0          101    Alice     New York  Product A    2023-01-01\n",
       "1          102      Bob  Los Angeles  Product B    2023-02-05\n",
       "2          103  Charlie      Chicago  Product C    2023-03-10\n",
       "3          105      NaN          NaN  Product C    2023-03-10"
      ]
     },
     "execution_count": 99,
     "metadata": {},
     "output_type": "execute_result"
    }
   ],
   "source": [
    "customer_purchase = pd.merge(customer_data, purchase_data, on='Customer ID', how='right')\n",
    "customer_purchase"
   ]
  },
  {
   "cell_type": "markdown",
   "id": "e89ac220-6049-4a59-83da-4733e8ac85a7",
   "metadata": {},
   "source": [
    "<h3>Social Media Sentiment Analysis</h3>"
   ]
  },
  {
   "cell_type": "code",
   "execution_count": 100,
   "id": "ca8fe9b8-0538-4a50-b470-0b4014199e44",
   "metadata": {},
   "outputs": [
    {
     "name": "stdout",
     "output_type": "stream",
     "text": [
      "<class 'pandas.core.frame.DataFrame'>\n",
      "RangeIndex: 9 entries, 0 to 8\n",
      "Data columns (total 4 columns):\n",
      " #   Column           Non-Null Count  Dtype  \n",
      "---  ------           --------------  -----  \n",
      " 0   post_id          9 non-null      int64  \n",
      " 1   date             9 non-null      object \n",
      " 2   sentiment_score  7 non-null      float64\n",
      " 3   text             9 non-null      object \n",
      "dtypes: float64(1), int64(1), object(2)\n",
      "memory usage: 420.0+ bytes\n"
     ]
    }
   ],
   "source": [
    "sentimentdf = pd.read_csv('raw_sentiment_data.csv')\n",
    "sentimentdf.info()"
   ]
  },
  {
   "cell_type": "code",
   "execution_count": 101,
   "id": "bd94acc8-c6a3-4221-a27e-3c9e1b2c34c2",
   "metadata": {},
   "outputs": [
    {
     "data": {
      "text/html": [
       "<div>\n",
       "<style scoped>\n",
       "    .dataframe tbody tr th:only-of-type {\n",
       "        vertical-align: middle;\n",
       "    }\n",
       "\n",
       "    .dataframe tbody tr th {\n",
       "        vertical-align: top;\n",
       "    }\n",
       "\n",
       "    .dataframe thead th {\n",
       "        text-align: right;\n",
       "    }\n",
       "</style>\n",
       "<table border=\"1\" class=\"dataframe\">\n",
       "  <thead>\n",
       "    <tr style=\"text-align: right;\">\n",
       "      <th></th>\n",
       "      <th>post_id</th>\n",
       "      <th>sentiment_score</th>\n",
       "    </tr>\n",
       "  </thead>\n",
       "  <tbody>\n",
       "    <tr>\n",
       "      <th>count</th>\n",
       "      <td>9.000000</td>\n",
       "      <td>7.000000</td>\n",
       "    </tr>\n",
       "    <tr>\n",
       "      <th>mean</th>\n",
       "      <td>5.000000</td>\n",
       "      <td>0.128571</td>\n",
       "    </tr>\n",
       "    <tr>\n",
       "      <th>std</th>\n",
       "      <td>2.738613</td>\n",
       "      <td>0.629058</td>\n",
       "    </tr>\n",
       "    <tr>\n",
       "      <th>min</th>\n",
       "      <td>1.000000</td>\n",
       "      <td>-0.900000</td>\n",
       "    </tr>\n",
       "    <tr>\n",
       "      <th>25%</th>\n",
       "      <td>3.000000</td>\n",
       "      <td>-0.200000</td>\n",
       "    </tr>\n",
       "    <tr>\n",
       "      <th>50%</th>\n",
       "      <td>5.000000</td>\n",
       "      <td>0.200000</td>\n",
       "    </tr>\n",
       "    <tr>\n",
       "      <th>75%</th>\n",
       "      <td>7.000000</td>\n",
       "      <td>0.600000</td>\n",
       "    </tr>\n",
       "    <tr>\n",
       "      <th>max</th>\n",
       "      <td>9.000000</td>\n",
       "      <td>0.800000</td>\n",
       "    </tr>\n",
       "  </tbody>\n",
       "</table>\n",
       "</div>"
      ],
      "text/plain": [
       "        post_id  sentiment_score\n",
       "count  9.000000         7.000000\n",
       "mean   5.000000         0.128571\n",
       "std    2.738613         0.629058\n",
       "min    1.000000        -0.900000\n",
       "25%    3.000000        -0.200000\n",
       "50%    5.000000         0.200000\n",
       "75%    7.000000         0.600000\n",
       "max    9.000000         0.800000"
      ]
     },
     "execution_count": 101,
     "metadata": {},
     "output_type": "execute_result"
    }
   ],
   "source": [
    "sentimentdf.describe()"
   ]
  },
  {
   "cell_type": "code",
   "execution_count": 102,
   "id": "1b909758-035d-46d0-9c7a-d191c59c781b",
   "metadata": {},
   "outputs": [
    {
     "data": {
      "text/plain": [
       "0    False\n",
       "1    False\n",
       "2     True\n",
       "3    False\n",
       "4    False\n",
       "5     True\n",
       "6    False\n",
       "7    False\n",
       "8    False\n",
       "Name: sentiment_score, dtype: bool"
      ]
     },
     "execution_count": 102,
     "metadata": {},
     "output_type": "execute_result"
    }
   ],
   "source": [
    "sentimentdf.sentiment_score.isnull()"
   ]
  },
  {
   "cell_type": "code",
   "execution_count": 103,
   "id": "013abf83-bc30-4220-a5e7-8ad357f66bde",
   "metadata": {},
   "outputs": [
    {
     "name": "stdout",
     "output_type": "stream",
     "text": [
      "There are 2 missing values in the sentiment_score column\n"
     ]
    }
   ],
   "source": [
    "missing_value = sentimentdf.sentiment_score.isnull().sum()\n",
    "print(f'There are {missing_value} missing values in the sentiment_score column')"
   ]
  },
  {
   "cell_type": "code",
   "execution_count": 104,
   "id": "b4f7f554-cc01-4249-9357-50cec21b8fae",
   "metadata": {},
   "outputs": [
    {
     "data": {
      "text/html": [
       "<div>\n",
       "<style scoped>\n",
       "    .dataframe tbody tr th:only-of-type {\n",
       "        vertical-align: middle;\n",
       "    }\n",
       "\n",
       "    .dataframe tbody tr th {\n",
       "        vertical-align: top;\n",
       "    }\n",
       "\n",
       "    .dataframe thead th {\n",
       "        text-align: right;\n",
       "    }\n",
       "</style>\n",
       "<table border=\"1\" class=\"dataframe\">\n",
       "  <thead>\n",
       "    <tr style=\"text-align: right;\">\n",
       "      <th></th>\n",
       "      <th>post_id</th>\n",
       "      <th>date</th>\n",
       "      <th>sentiment_score</th>\n",
       "      <th>text</th>\n",
       "    </tr>\n",
       "  </thead>\n",
       "  <tbody>\n",
       "    <tr>\n",
       "      <th>0</th>\n",
       "      <td>1</td>\n",
       "      <td>2024-06-01</td>\n",
       "      <td>0.7</td>\n",
       "      <td>Great initiative for local clean-up!</td>\n",
       "    </tr>\n",
       "    <tr>\n",
       "      <th>1</th>\n",
       "      <td>2</td>\n",
       "      <td>2024-06-01</td>\n",
       "      <td>0.2</td>\n",
       "      <td>Weather was okay today.</td>\n",
       "    </tr>\n",
       "    <tr>\n",
       "      <th>2</th>\n",
       "      <td>3</td>\n",
       "      <td>2024-06-01</td>\n",
       "      <td>0.0</td>\n",
       "      <td>Not sure about this new policy.</td>\n",
       "    </tr>\n",
       "    <tr>\n",
       "      <th>3</th>\n",
       "      <td>4</td>\n",
       "      <td>2024-06-02</td>\n",
       "      <td>-0.5</td>\n",
       "      <td>Traffic is terrible again.</td>\n",
       "    </tr>\n",
       "    <tr>\n",
       "      <th>4</th>\n",
       "      <td>5</td>\n",
       "      <td>2024-06-02</td>\n",
       "      <td>0.8</td>\n",
       "      <td>Loving the new public art!</td>\n",
       "    </tr>\n",
       "    <tr>\n",
       "      <th>5</th>\n",
       "      <td>6</td>\n",
       "      <td>2024-06-02</td>\n",
       "      <td>0.0</td>\n",
       "      <td>This is confusing.</td>\n",
       "    </tr>\n",
       "    <tr>\n",
       "      <th>6</th>\n",
       "      <td>7</td>\n",
       "      <td>2024-06-03</td>\n",
       "      <td>0.1</td>\n",
       "      <td>Just thinking.</td>\n",
       "    </tr>\n",
       "    <tr>\n",
       "      <th>7</th>\n",
       "      <td>8</td>\n",
       "      <td>2024-06-03</td>\n",
       "      <td>-0.9</td>\n",
       "      <td>Absolutely furious with the decision.</td>\n",
       "    </tr>\n",
       "    <tr>\n",
       "      <th>8</th>\n",
       "      <td>9</td>\n",
       "      <td>2024-06-03</td>\n",
       "      <td>0.5</td>\n",
       "      <td>Hope for better days.</td>\n",
       "    </tr>\n",
       "  </tbody>\n",
       "</table>\n",
       "</div>"
      ],
      "text/plain": [
       "   post_id        date  sentiment_score                                   text\n",
       "0        1  2024-06-01              0.7   Great initiative for local clean-up!\n",
       "1        2  2024-06-01              0.2                Weather was okay today.\n",
       "2        3  2024-06-01              0.0        Not sure about this new policy.\n",
       "3        4  2024-06-02             -0.5             Traffic is terrible again.\n",
       "4        5  2024-06-02              0.8             Loving the new public art!\n",
       "5        6  2024-06-02              0.0                     This is confusing.\n",
       "6        7  2024-06-03              0.1                         Just thinking.\n",
       "7        8  2024-06-03             -0.9  Absolutely furious with the decision.\n",
       "8        9  2024-06-03              0.5                  Hope for better days."
      ]
     },
     "execution_count": 104,
     "metadata": {},
     "output_type": "execute_result"
    }
   ],
   "source": [
    "# filling up the missing values with 0.0\n",
    "sentimentdf.sentiment_score = sentimentdf.sentiment_score.fillna(0.0)\n",
    "sentimentdf"
   ]
  },
  {
   "cell_type": "code",
   "execution_count": 105,
   "id": "e831a510-9b6d-4f31-bd9e-eda25fc88e3c",
   "metadata": {},
   "outputs": [],
   "source": [
    "daily_avg_sentiment = sentimentdf.groupby('date')['sentiment_score'].mean()\n",
    "daily_count_sentiment = sentimentdf.groupby('date')['post_id'].count()"
   ]
  },
  {
   "cell_type": "code",
   "execution_count": 106,
   "id": "9d21a944-7e2b-4617-8ee0-6c935702ec4b",
   "metadata": {},
   "outputs": [
    {
     "data": {
      "text/plain": [
       "pandas.core.series.Series"
      ]
     },
     "execution_count": 106,
     "metadata": {},
     "output_type": "execute_result"
    }
   ],
   "source": [
    "type(daily_count_sentiment)"
   ]
  },
  {
   "cell_type": "code",
   "execution_count": 107,
   "id": "1128970b-57d7-4ead-96db-0b734a1c79ad",
   "metadata": {},
   "outputs": [
    {
     "name": "stdout",
     "output_type": "stream",
     "text": [
      "The average sentiment on 2024-06-01 is 0.30, with only 3 posts.\n",
      "The average sentiment on 2024-06-02 is 0.10, with only 3 posts.\n",
      "The average sentiment on 2024-06-03 is -0.10, with only 3 posts.\n"
     ]
    }
   ],
   "source": [
    "for key, value in daily_avg_sentiment.items():\n",
    "    print(f'The average sentiment on {key} is {value:.2f}, with only {daily_count_sentiment[key]} posts.')"
   ]
  },
  {
   "cell_type": "markdown",
   "id": "310b86d5-9f9b-43d6-a980-3312e672c8c0",
   "metadata": {},
   "source": [
    "<h3>Malaysian Economic Indicators by State</h3>"
   ]
  },
  {
   "cell_type": "code",
   "execution_count": 108,
   "id": "7fe27880-c57c-42c4-bdca-0242ac4e24c0",
   "metadata": {},
   "outputs": [
    {
     "data": {
      "text/html": [
       "<div>\n",
       "<style scoped>\n",
       "    .dataframe tbody tr th:only-of-type {\n",
       "        vertical-align: middle;\n",
       "    }\n",
       "\n",
       "    .dataframe tbody tr th {\n",
       "        vertical-align: top;\n",
       "    }\n",
       "\n",
       "    .dataframe thead th {\n",
       "        text-align: right;\n",
       "    }\n",
       "</style>\n",
       "<table border=\"1\" class=\"dataframe\">\n",
       "  <thead>\n",
       "    <tr style=\"text-align: right;\">\n",
       "      <th></th>\n",
       "      <th>state</th>\n",
       "      <th>date</th>\n",
       "      <th>income_mean</th>\n",
       "      <th>income_median</th>\n",
       "    </tr>\n",
       "  </thead>\n",
       "  <tbody>\n",
       "    <tr>\n",
       "      <th>0</th>\n",
       "      <td>Johor</td>\n",
       "      <td>1970-01-01</td>\n",
       "      <td>237</td>\n",
       "      <td>&lt;NA&gt;</td>\n",
       "    </tr>\n",
       "    <tr>\n",
       "      <th>1</th>\n",
       "      <td>Johor</td>\n",
       "      <td>1974-01-01</td>\n",
       "      <td>382</td>\n",
       "      <td>269</td>\n",
       "    </tr>\n",
       "    <tr>\n",
       "      <th>2</th>\n",
       "      <td>Johor</td>\n",
       "      <td>1976-01-01</td>\n",
       "      <td>513</td>\n",
       "      <td>370</td>\n",
       "    </tr>\n",
       "    <tr>\n",
       "      <th>3</th>\n",
       "      <td>Johor</td>\n",
       "      <td>1979-01-01</td>\n",
       "      <td>731</td>\n",
       "      <td>518</td>\n",
       "    </tr>\n",
       "    <tr>\n",
       "      <th>4</th>\n",
       "      <td>Johor</td>\n",
       "      <td>1984-01-01</td>\n",
       "      <td>1065</td>\n",
       "      <td>793</td>\n",
       "    </tr>\n",
       "    <tr>\n",
       "      <th>...</th>\n",
       "      <td>...</td>\n",
       "      <td>...</td>\n",
       "      <td>...</td>\n",
       "      <td>...</td>\n",
       "    </tr>\n",
       "    <tr>\n",
       "      <th>298</th>\n",
       "      <td>W.P. Putrajaya</td>\n",
       "      <td>2014-01-01</td>\n",
       "      <td>10401</td>\n",
       "      <td>7512</td>\n",
       "    </tr>\n",
       "    <tr>\n",
       "      <th>299</th>\n",
       "      <td>W.P. Putrajaya</td>\n",
       "      <td>2016-01-01</td>\n",
       "      <td>11555</td>\n",
       "      <td>8275</td>\n",
       "    </tr>\n",
       "    <tr>\n",
       "      <th>300</th>\n",
       "      <td>W.P. Putrajaya</td>\n",
       "      <td>2019-01-01</td>\n",
       "      <td>12840</td>\n",
       "      <td>9983</td>\n",
       "    </tr>\n",
       "    <tr>\n",
       "      <th>301</th>\n",
       "      <td>W.P. Putrajaya</td>\n",
       "      <td>2020-01-01</td>\n",
       "      <td>12322</td>\n",
       "      <td>9743</td>\n",
       "    </tr>\n",
       "    <tr>\n",
       "      <th>302</th>\n",
       "      <td>W.P. Putrajaya</td>\n",
       "      <td>2022-01-01</td>\n",
       "      <td>13473</td>\n",
       "      <td>10056</td>\n",
       "    </tr>\n",
       "  </tbody>\n",
       "</table>\n",
       "<p>303 rows × 4 columns</p>\n",
       "</div>"
      ],
      "text/plain": [
       "              state       date  income_mean  income_median\n",
       "0             Johor 1970-01-01          237           <NA>\n",
       "1             Johor 1974-01-01          382            269\n",
       "2             Johor 1976-01-01          513            370\n",
       "3             Johor 1979-01-01          731            518\n",
       "4             Johor 1984-01-01         1065            793\n",
       "..              ...        ...          ...            ...\n",
       "298  W.P. Putrajaya 2014-01-01        10401           7512\n",
       "299  W.P. Putrajaya 2016-01-01        11555           8275\n",
       "300  W.P. Putrajaya 2019-01-01        12840           9983\n",
       "301  W.P. Putrajaya 2020-01-01        12322           9743\n",
       "302  W.P. Putrajaya 2022-01-01        13473          10056\n",
       "\n",
       "[303 rows x 4 columns]"
      ]
     },
     "execution_count": 108,
     "metadata": {},
     "output_type": "execute_result"
    }
   ],
   "source": [
    "URL_DATA = 'https://storage.dosm.gov.my/hies/hh_income_state.parquet'\n",
    "\n",
    "df = pd.read_parquet(URL_DATA)\n",
    "if 'date' in df.columns: df['date'] = pd.to_datetime(df['date'])\n",
    "df"
   ]
  },
  {
   "cell_type": "code",
   "execution_count": 109,
   "id": "29d68c81-1100-4474-8823-5faf13fde9a5",
   "metadata": {},
   "outputs": [
    {
     "data": {
      "text/plain": [
       "state\n",
       "Johor                3301.190476\n",
       "Kedah                2235.857143\n",
       "Kelantan             1952.666667\n",
       "Melaka               3175.952381\n",
       "Negeri Sembilan      2886.190476\n",
       "Pahang               2417.428571\n",
       "Perak                2369.809524\n",
       "Perlis               2221.809524\n",
       "Pulau Pinang         3442.047619\n",
       "Sabah                2851.578947\n",
       "Sarawak              2975.947368\n",
       "Selangor             4731.714286\n",
       "Terengganu           2495.857143\n",
       "W.P. Kuala Lumpur    6179.611111\n",
       "W.P. Labuan             6764.625\n",
       "W.P. Putrajaya         10091.625\n",
       "Name: income_mean, dtype: Float64"
      ]
     },
     "execution_count": 109,
     "metadata": {},
     "output_type": "execute_result"
    }
   ],
   "source": [
    "state_avg_income = df.groupby('state')['income_mean'].mean()\n",
    "state_avg_income"
   ]
  },
  {
   "cell_type": "code",
   "execution_count": 110,
   "id": "b528fc07-0f85-4b23-bc23-db0068fd3c34",
   "metadata": {},
   "outputs": [
    {
     "name": "stdout",
     "output_type": "stream",
     "text": [
      "The state with the highest income is W.P. Putrajaya with 10091.62\n",
      "The state with the lowest income is Kelantan with 1952.67\n"
     ]
    }
   ],
   "source": [
    "print(f\"The state with the highest income is {state_avg_income[state_avg_income == state_avg_income.max()].index[0]} with {state_avg_income.max():.2f}\")\n",
    "print(f\"The state with the lowest income is {state_avg_income[state_avg_income == state_avg_income.min()].index[0]} with {state_avg_income.min():.2f}\")"
   ]
  },
  {
   "cell_type": "markdown",
   "id": "406898c5-38c4-414f-9d99-73486ff44d8e",
   "metadata": {},
   "source": [
    "<h3>Regional Unemployment Trends</h3>"
   ]
  },
  {
   "cell_type": "code",
   "execution_count": 111,
   "id": "5dc8ba3b-681d-4e4d-8578-6b2a55d83e29",
   "metadata": {},
   "outputs": [
    {
     "data": {
      "text/html": [
       "<div>\n",
       "<style scoped>\n",
       "    .dataframe tbody tr th:only-of-type {\n",
       "        vertical-align: middle;\n",
       "    }\n",
       "\n",
       "    .dataframe tbody tr th {\n",
       "        vertical-align: top;\n",
       "    }\n",
       "\n",
       "    .dataframe thead th {\n",
       "        text-align: right;\n",
       "    }\n",
       "</style>\n",
       "<table border=\"1\" class=\"dataframe\">\n",
       "  <thead>\n",
       "    <tr style=\"text-align: right;\">\n",
       "      <th></th>\n",
       "      <th>date</th>\n",
       "      <th>state</th>\n",
       "      <th>lf</th>\n",
       "      <th>lf_employed</th>\n",
       "      <th>lf_unemployed</th>\n",
       "      <th>lf_outside</th>\n",
       "      <th>p_rate</th>\n",
       "      <th>u_rate</th>\n",
       "    </tr>\n",
       "  </thead>\n",
       "  <tbody>\n",
       "    <tr>\n",
       "      <th>0</th>\n",
       "      <td>2017-01-01</td>\n",
       "      <td>Johor</td>\n",
       "      <td>1685.8</td>\n",
       "      <td>1634.6</td>\n",
       "      <td>51.2</td>\n",
       "      <td>816.9</td>\n",
       "      <td>67.4</td>\n",
       "      <td>3.0</td>\n",
       "    </tr>\n",
       "    <tr>\n",
       "      <th>1</th>\n",
       "      <td>2017-04-01</td>\n",
       "      <td>Johor</td>\n",
       "      <td>1675.2</td>\n",
       "      <td>1616.0</td>\n",
       "      <td>59.2</td>\n",
       "      <td>823.5</td>\n",
       "      <td>67.0</td>\n",
       "      <td>3.5</td>\n",
       "    </tr>\n",
       "    <tr>\n",
       "      <th>2</th>\n",
       "      <td>2017-07-01</td>\n",
       "      <td>Johor</td>\n",
       "      <td>1675.4</td>\n",
       "      <td>1607.7</td>\n",
       "      <td>67.7</td>\n",
       "      <td>830.7</td>\n",
       "      <td>66.9</td>\n",
       "      <td>4.0</td>\n",
       "    </tr>\n",
       "    <tr>\n",
       "      <th>3</th>\n",
       "      <td>2017-10-01</td>\n",
       "      <td>Johor</td>\n",
       "      <td>1684.4</td>\n",
       "      <td>1632.6</td>\n",
       "      <td>51.8</td>\n",
       "      <td>825.4</td>\n",
       "      <td>67.1</td>\n",
       "      <td>3.1</td>\n",
       "    </tr>\n",
       "    <tr>\n",
       "      <th>4</th>\n",
       "      <td>2018-01-01</td>\n",
       "      <td>Johor</td>\n",
       "      <td>1740.3</td>\n",
       "      <td>1691.7</td>\n",
       "      <td>48.6</td>\n",
       "      <td>784.8</td>\n",
       "      <td>68.9</td>\n",
       "      <td>2.8</td>\n",
       "    </tr>\n",
       "    <tr>\n",
       "      <th>...</th>\n",
       "      <td>...</td>\n",
       "      <td>...</td>\n",
       "      <td>...</td>\n",
       "      <td>...</td>\n",
       "      <td>...</td>\n",
       "      <td>...</td>\n",
       "      <td>...</td>\n",
       "      <td>...</td>\n",
       "    </tr>\n",
       "    <tr>\n",
       "      <th>507</th>\n",
       "      <td>2023-10-01</td>\n",
       "      <td>W.P. Putrajaya</td>\n",
       "      <td>38.4</td>\n",
       "      <td>37.8</td>\n",
       "      <td>0.6</td>\n",
       "      <td>13.2</td>\n",
       "      <td>74.4</td>\n",
       "      <td>1.5</td>\n",
       "    </tr>\n",
       "    <tr>\n",
       "      <th>508</th>\n",
       "      <td>2024-01-01</td>\n",
       "      <td>W.P. Putrajaya</td>\n",
       "      <td>36.5</td>\n",
       "      <td>35.7</td>\n",
       "      <td>0.8</td>\n",
       "      <td>13.6</td>\n",
       "      <td>72.9</td>\n",
       "      <td>2.1</td>\n",
       "    </tr>\n",
       "    <tr>\n",
       "      <th>509</th>\n",
       "      <td>2024-04-01</td>\n",
       "      <td>W.P. Putrajaya</td>\n",
       "      <td>37.3</td>\n",
       "      <td>36.6</td>\n",
       "      <td>0.8</td>\n",
       "      <td>13.5</td>\n",
       "      <td>73.4</td>\n",
       "      <td>2.1</td>\n",
       "    </tr>\n",
       "    <tr>\n",
       "      <th>510</th>\n",
       "      <td>2024-07-01</td>\n",
       "      <td>W.P. Putrajaya</td>\n",
       "      <td>36.9</td>\n",
       "      <td>36.2</td>\n",
       "      <td>0.7</td>\n",
       "      <td>13.7</td>\n",
       "      <td>73.0</td>\n",
       "      <td>2.0</td>\n",
       "    </tr>\n",
       "    <tr>\n",
       "      <th>511</th>\n",
       "      <td>2024-10-01</td>\n",
       "      <td>W.P. Putrajaya</td>\n",
       "      <td>36.3</td>\n",
       "      <td>35.2</td>\n",
       "      <td>1.1</td>\n",
       "      <td>13.9</td>\n",
       "      <td>72.3</td>\n",
       "      <td>3.1</td>\n",
       "    </tr>\n",
       "  </tbody>\n",
       "</table>\n",
       "<p>512 rows × 8 columns</p>\n",
       "</div>"
      ],
      "text/plain": [
       "          date           state      lf  lf_employed  lf_unemployed  \\\n",
       "0   2017-01-01           Johor  1685.8       1634.6           51.2   \n",
       "1   2017-04-01           Johor  1675.2       1616.0           59.2   \n",
       "2   2017-07-01           Johor  1675.4       1607.7           67.7   \n",
       "3   2017-10-01           Johor  1684.4       1632.6           51.8   \n",
       "4   2018-01-01           Johor  1740.3       1691.7           48.6   \n",
       "..         ...             ...     ...          ...            ...   \n",
       "507 2023-10-01  W.P. Putrajaya    38.4         37.8            0.6   \n",
       "508 2024-01-01  W.P. Putrajaya    36.5         35.7            0.8   \n",
       "509 2024-04-01  W.P. Putrajaya    37.3         36.6            0.8   \n",
       "510 2024-07-01  W.P. Putrajaya    36.9         36.2            0.7   \n",
       "511 2024-10-01  W.P. Putrajaya    36.3         35.2            1.1   \n",
       "\n",
       "     lf_outside  p_rate  u_rate  \n",
       "0         816.9    67.4     3.0  \n",
       "1         823.5    67.0     3.5  \n",
       "2         830.7    66.9     4.0  \n",
       "3         825.4    67.1     3.1  \n",
       "4         784.8    68.9     2.8  \n",
       "..          ...     ...     ...  \n",
       "507        13.2    74.4     1.5  \n",
       "508        13.6    72.9     2.1  \n",
       "509        13.5    73.4     2.1  \n",
       "510        13.7    73.0     2.0  \n",
       "511        13.9    72.3     3.1  \n",
       "\n",
       "[512 rows x 8 columns]"
      ]
     },
     "execution_count": 111,
     "metadata": {},
     "output_type": "execute_result"
    }
   ],
   "source": [
    "URL_DATA = 'https://storage.dosm.gov.my/labour/lfs_qtr_state.parquet'\n",
    "\n",
    "df = pd.read_parquet(URL_DATA)\n",
    "if 'date' in df.columns: df['date'] = pd.to_datetime(df['date'])\n",
    "df"
   ]
  },
  {
   "cell_type": "code",
   "execution_count": 112,
   "id": "6d4eb39e-079c-481e-8396-7421a06f371d",
   "metadata": {},
   "outputs": [
    {
     "data": {
      "text/plain": [
       "state\n",
       "Johor                 55.009375\n",
       "Kedah                 29.806250\n",
       "Kelantan              31.487500\n",
       "Melaka                 9.603125\n",
       "Negeri Sembilan       14.978125\n",
       "Pahang                21.128125\n",
       "Perak                 42.362500\n",
       "Perlis                 3.853125\n",
       "Pulau Pinang          22.753125\n",
       "Sabah                152.906250\n",
       "Sarawak               49.128125\n",
       "Selangor             107.734375\n",
       "Terengganu            20.821875\n",
       "W.P. Kuala Lumpur     29.856250\n",
       "W.P. Labuan            3.006250\n",
       "W.P. Putrajaya         0.509375\n",
       "Name: lf_unemployed, dtype: float64"
      ]
     },
     "execution_count": 112,
     "metadata": {},
     "output_type": "execute_result"
    }
   ],
   "source": [
    "average_unemployment_year = df.groupby('state')['lf_unemployed'].mean()\n",
    "average_unemployment_year"
   ]
  },
  {
   "cell_type": "code",
   "execution_count": 113,
   "id": "8db4e807-7706-4b0d-94f8-0052a6b72691",
   "metadata": {},
   "outputs": [
    {
     "name": "stdout",
     "output_type": "stream",
     "text": [
      "Johor: 55.009375\n",
      "Kedah: 29.80625\n",
      "Kelantan: 31.4875\n",
      "Melaka: 9.603125\n",
      "Negeri Sembilan: 14.978125\n",
      "Pahang: 21.128125\n",
      "Perak: 42.3625\n",
      "Pulau Pinang: 22.753125\n",
      "Sabah: 152.90625\n",
      "Sarawak: 49.128125\n",
      "Selangor: 107.734375\n",
      "Terengganu: 20.821875\n",
      "W.P. Kuala Lumpur: 29.85625\n",
      "\n",
      "The state with the lowest unemployment rate is W.P. Putrajaya with 0.51%\n"
     ]
    }
   ],
   "source": [
    "for average in average_unemployment_year:\n",
    "    if average > 4.0:\n",
    "        print(f\"{average_unemployment_year[average_unemployment_year == average].index[0]}: {average}\")\n",
    "\n",
    "print(f\"\\nThe state with the lowest unemployment rate is {average_unemployment_year[average_unemployment_year == average_unemployment_year.min()].index[0]} with {average_unemployment_year.min():.2f}%\")"
   ]
  },
  {
   "cell_type": "code",
   "execution_count": null,
   "id": "ee1439f5-a5e2-4168-968a-0a0c6b253d67",
   "metadata": {},
   "outputs": [],
   "source": []
  }
 ],
 "metadata": {
  "kernelspec": {
   "display_name": "Python 3 (ipykernel)",
   "language": "python",
   "name": "python3"
  },
  "language_info": {
   "codemirror_mode": {
    "name": "ipython",
    "version": 3
   },
   "file_extension": ".py",
   "mimetype": "text/x-python",
   "name": "python",
   "nbconvert_exporter": "python",
   "pygments_lexer": "ipython3",
   "version": "3.11.7"
  }
 },
 "nbformat": 4,
 "nbformat_minor": 5
}
