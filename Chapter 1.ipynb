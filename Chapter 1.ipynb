{
 "cells": [
  {
   "cell_type": "markdown",
   "id": "28baeeff-3f4e-4f3d-9e44-423f70f00ad2",
   "metadata": {},
   "source": [
    "<h1>Chapter 1 Introduction to Python</h1>"
   ]
  },
  {
   "cell_type": "markdown",
   "id": "858d4949-568b-4507-871c-3e704b04717c",
   "metadata": {},
   "source": [
    "<h3>This chapter introduces us to the following:</h3>\n",
    "<li>syntax</li>\n",
    "<li>input()</li>\n",
    "<li>output()</li>"
   ]
  },
  {
   "cell_type": "markdown",
   "id": "0d570f1b-16c7-4082-93f2-9bf84c58383e",
   "metadata": {},
   "source": [
    "1.\tWrite a program that asks the user for their name and birth year. Then, print a greeting message that includes their name and age."
   ]
  },
  {
   "cell_type": "code",
   "execution_count": 13,
   "id": "d8de7f83-6899-4ed2-936b-1162442e0483",
   "metadata": {},
   "outputs": [
    {
     "name": "stdin",
     "output_type": "stream",
     "text": [
      "What is your name? S\n",
      "When were you born? 1\n"
     ]
    },
    {
     "name": "stdout",
     "output_type": "stream",
     "text": [
      "Hello, happy holiday S!\n",
      "Oh, you are 2024 years old.\n",
      "Oh, you are 2024 years old.\n"
     ]
    }
   ],
   "source": [
    "name = input(\"What is your name?\")\n",
    "# Explicit Cast \n",
    "# Cast the result of input as a certain type\n",
    "year = int(input(\"When were you born?\"))\n",
    "\n",
    "age = 2025 - year\n",
    "\n",
    "print(\"Hello, happy holiday \" + name + \"!\")\n",
    "# Explicit cast when using with normal print\n",
    "print(\"Oh, you are \"+str(age)+\" years old.\")\n",
    "# No explicit casting needed with f formatting\n",
    "print(f\"Oh, you are {age} years old.\")"
   ]
  },
  {
   "cell_type": "markdown",
   "id": "4cc129d4-77f8-4367-8116-e60368fa4435",
   "metadata": {},
   "source": [
    "2.\tWrite a program that takes two numbers as input from the user, performs addition, subtraction, multiplication, and division, and prints the results"
   ]
  },
  {
   "cell_type": "code",
   "execution_count": 14,
   "id": "dcd6c4bb-8818-4b6d-9293-815a8f43ad4a",
   "metadata": {},
   "outputs": [
    {
     "name": "stdin",
     "output_type": "stream",
     "text": [
      "First number:  5\n",
      "Second number:  10\n"
     ]
    },
    {
     "name": "stdout",
     "output_type": "stream",
     "text": [
      "The result of the operation for 5 and 10\n",
      "Addition: 15\n",
      "Subtraction: -5\n",
      "Multiplication: 50\n",
      "Division: 0.5\n"
     ]
    }
   ],
   "source": [
    "num1 = int(input(\"First number: \"))\n",
    "num2 = int(input(\"Second number: \"))\n",
    "\n",
    "addition = num1 + num2\n",
    "subtraction = num1 - num2\n",
    "multiplication = num1 * num2\n",
    "division = num1 / num2\n",
    "\n",
    "print(f\"The result of the operation for {num1} and {num2}\")\n",
    "print(f\"Addition: {addition}\")\n",
    "print(f\"Subtraction: {subtraction}\")\n",
    "print(f\"Multiplication: {multiplication}\")\n",
    "print(f\"Division: {division}\")"
   ]
  },
  {
   "cell_type": "markdown",
   "id": "89077d09-1055-42cc-847e-8310e2ab054f",
   "metadata": {},
   "source": [
    "3. Write a program that converts temperature from Celsius to Fahrenheit. The user should input the temperature in Celsius, and the program should print the equivalent temperature in Fahrenheit based on the formula:\n",
    "\n",
    "   Fahrenheit=Celcius×9/5+32\n"
   ]
  },
  {
   "cell_type": "code",
   "execution_count": 16,
   "id": "8dd7414f-1510-4841-bd95-578619ff533a",
   "metadata": {},
   "outputs": [
    {
     "name": "stdin",
     "output_type": "stream",
     "text": [
      "Give me the temperature in celcius please?  30\n"
     ]
    },
    {
     "name": "stdout",
     "output_type": "stream",
     "text": [
      "30C is 86.0F\n"
     ]
    }
   ],
   "source": [
    "celcius = int(input(\"Give me the temperature in celcius please? \"))\n",
    "\n",
    "fahrenheit = celcius * 9 / 5 + 32\n",
    "\n",
    "print(f\"{celcius}C is {fahrenheit}F\")"
   ]
  },
  {
   "cell_type": "markdown",
   "id": "f49ae9c5-2f7d-4f21-b06a-f83a65ef8939",
   "metadata": {},
   "source": [
    "Ask for an employee’s basic salary, allowances, and deductions, and calculate their net monthly salary based on the formula: Net Monthly Salary=Basic Salary+Allowances-Deductions"
   ]
  },
  {
   "cell_type": "code",
   "execution_count": 18,
   "id": "c230dd9b-cbcd-4cf5-8649-fffea0b0f25d",
   "metadata": {},
   "outputs": [
    {
     "name": "stdin",
     "output_type": "stream",
     "text": [
      "What's your salary?  7000\n",
      "How much allowance do you receive?  700\n",
      "How much is the deduction?  0\n"
     ]
    },
    {
     "name": "stdout",
     "output_type": "stream",
     "text": [
      "Your salary for this month is RM 7700\n"
     ]
    }
   ],
   "source": [
    "salary = int(input(\"What's your salary? \"))\n",
    "allowance = int(input(\"How much allowance do you receive? \"))\n",
    "deduction = int(input(\"How much is the deduction? \"))\n",
    "\n",
    "salary = salary + allowance - deduction\n",
    "\n",
    "print(f\"Your salary for this month is RM {salary}\")"
   ]
  },
  {
   "cell_type": "markdown",
   "id": "4a2d53b0-b15a-479b-b5e0-eb0c965cefa1",
   "metadata": {},
   "source": [
    "Given a loan amount, interest rate, and loan tenure, calculate the monthly instalments and total interest payable based on the following formula:\n",
    "\n",
    "Monthly Installment=Pr⁡〖(1+r)^n 〗/((1+r)^n-1)<br>\n",
    "Total Interest Payable=Monthly Installment×n-P<br>\n",
    "\n",
    "Given that P refers to the loan amount, r is the monthly interest rate and n is the total number of loan tenure in months.\n"
   ]
  },
  {
   "cell_type": "code",
   "execution_count": 26,
   "id": "91b98f78-c5d3-4fb7-a9e5-97a9a0b78039",
   "metadata": {},
   "outputs": [
    {
     "name": "stdout",
     "output_type": "stream",
     "text": [
      "You applied loan for RM 150000\n",
      "The annual interest rate is 3% annually\n",
      "The loan is for 5 year\n",
      "The monthly installment that you need to pay is RM 2695.30\n",
      "The total interest that you need to pay is RM 11718.22\n"
     ]
    }
   ],
   "source": [
    "loan = 150000\n",
    "interest = 3\n",
    "tenure = 5\n",
    "\n",
    "month_interest = interest / 100 / 12\n",
    "\n",
    "installment = (loan*(month_interest) * pow((1+(month_interest)), (tenure*12))) / (pow((1+(month_interest)), (tenure*12)) - 1)\n",
    "ipayable = installment * tenure * 12 - loan\n",
    "\n",
    "print(f\"You applied loan for RM {loan}\")\n",
    "print(f\"The annual interest rate is {interest}% annually\")\n",
    "print(f\"The loan is for {tenure} year\")\n",
    "print(f\"The monthly installment that you need to pay is RM {installment:.2f}\")\n",
    "print(f\"The total interest that you need to pay is RM {ipayable:.2f}\")"
   ]
  },
  {
   "cell_type": "code",
   "execution_count": null,
   "id": "e8d67e57-0553-4d19-a630-846813270301",
   "metadata": {},
   "outputs": [],
   "source": []
  }
 ],
 "metadata": {
  "kernelspec": {
   "display_name": "Python 3 (ipykernel)",
   "language": "python",
   "name": "python3"
  },
  "language_info": {
   "codemirror_mode": {
    "name": "ipython",
    "version": 3
   },
   "file_extension": ".py",
   "mimetype": "text/x-python",
   "name": "python",
   "nbconvert_exporter": "python",
   "pygments_lexer": "ipython3",
   "version": "3.11.7"
  }
 },
 "nbformat": 4,
 "nbformat_minor": 5
}
