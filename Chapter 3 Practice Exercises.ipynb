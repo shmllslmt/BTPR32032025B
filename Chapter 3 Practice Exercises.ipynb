{
 "cells": [
  {
   "cell_type": "markdown",
   "id": "a1f498c5-d437-47d1-9699-9b11a2632902",
   "metadata": {},
   "source": [
    "<h3>Global Health Organisation</h3>"
   ]
  },
  {
   "cell_type": "code",
   "execution_count": 7,
   "id": "d217605a-5e4e-4532-a184-854691b1f506",
   "metadata": {},
   "outputs": [
    {
     "name": "stdout",
     "output_type": "stream",
     "text": [
      "[(101, 35, 'Female'), (102, 30, 'Male'), (103, 25, 'Female')]\n",
      "30\n",
      "[(101, 35, 'Female'), (102, 30, 'Male'), (103, 25, 'Female'), (104, 50, 'Male')]\n"
     ]
    }
   ],
   "source": [
    "patient_records = list()\n",
    "\n",
    "patient_records.append((101, 35, 'Female'))\n",
    "patient_records.append((102, 30, 'Male'))\n",
    "patient_records.append((103, 25, 'Female'))\n",
    "\n",
    "print(patient_records)\n",
    "print(patient_records[1][1])\n",
    "\n",
    "patient_records.append((104, 50, 'Male'))\n",
    "print(patient_records)"
   ]
  },
  {
   "cell_type": "markdown",
   "id": "edf44dc2-0071-490a-bb3c-76ab460aab35",
   "metadata": {},
   "source": [
    "<h3>Bird Count</h3>"
   ]
  },
  {
   "cell_type": "code",
   "execution_count": 8,
   "id": "9f8a37be-e905-4818-8c12-0a5420ba2153",
   "metadata": {},
   "outputs": [
    {
     "name": "stdout",
     "output_type": "stream",
     "text": [
      "Total Number of Birds Observed: 198\n",
      "Highest Number of Birds Observed: 42\n",
      "[25, 30, 18, 42, 20, 35, 28, 50, 15]\n"
     ]
    }
   ],
   "source": [
    "daily_bird_counts = [25, 30, 18, 42, 20, 35, 28]\n",
    "\n",
    "print(f\"Total Number of Birds Observed: {sum(daily_bird_counts)}\")\n",
    "print(f\"Highest Number of Birds Observed: {max(daily_bird_counts)}\")\n",
    "\n",
    "daily_bird_counts.append(50)\n",
    "daily_bird_counts.append(15)\n",
    "\n",
    "print(daily_bird_counts)"
   ]
  },
  {
   "cell_type": "markdown",
   "id": "be37622b-41a0-429e-8cd5-be8efda7f334",
   "metadata": {},
   "source": [
    "<h3>Emergency Response Team</h3>"
   ]
  },
  {
   "cell_type": "code",
   "execution_count": 9,
   "id": "0c342e80-5293-46f2-8299-28b7fb934035",
   "metadata": {},
   "outputs": [
    {
     "name": "stdout",
     "output_type": "stream",
     "text": [
      "The current quantity of Water Bottles is 500\n",
      "Bandages in Stock\t: 120\n",
      "Water Bottles in Stock\t: 500\n",
      "First Aid Kits in Stock\t: 75\n",
      "Blankets in Stock\t: 200\n"
     ]
    }
   ],
   "source": [
    "depot_stock = {\n",
    "    'Bandages': 150,\n",
    "    'Water Bottles': 500,\n",
    "    'First Aid Kits': 75\n",
    "}\n",
    "\n",
    "print(f\"The current quantity of Water Bottles is {depot_stock['Water Bottles']}\")\n",
    "\n",
    "depot_stock['Bandages'] = 120\n",
    "depot_stock['Blankets'] = 200\n",
    "\n",
    "for k, v in depot_stock.items():\n",
    "    print(f\"{k} in Stock\\t: {v}\")"
   ]
  },
  {
   "cell_type": "markdown",
   "id": "dacada16-aa80-4426-bc5d-181a11110abe",
   "metadata": {},
   "source": [
    "<h3>Sentiment</h3>"
   ]
  },
  {
   "cell_type": "code",
   "execution_count": 12,
   "id": "87b5a5c3-6d10-4da3-a279-f5ec4f8a129c",
   "metadata": {},
   "outputs": [
    {
     "name": "stdout",
     "output_type": "stream",
     "text": [
      "Group 1 is Neutral\n",
      "Group 2 is Predominantly Positive\n",
      "Group 3 is Predominantly Negative\n"
     ]
    },
    {
     "data": {
      "text/plain": [
       "{}"
      ]
     },
     "execution_count": 12,
     "metadata": {},
     "output_type": "execute_result"
    }
   ],
   "source": [
    "group_sentiments = [\n",
    "    [-1, 0, 1, -1, 0],\n",
    "    [1, 1, 0, 1],\n",
    "    [0, -1, -1, 0, -1, 0]\n",
    "]\n",
    "\n",
    "average_sentiments = dict()\n",
    "count = 1\n",
    "\n",
    "for group in group_sentiments:\n",
    "    average = sum(group) / len(group)\n",
    "    if average > 0.3:\n",
    "        sentiment = 'Predominantly Positive'\n",
    "    elif average < -0.3:\n",
    "        sentiment = 'Predominantly Negative'\n",
    "    else:\n",
    "        sentiment = 'Neutral'\n",
    "    average_sentiments['Group '+str(count)] = sentiment\n",
    "    count += 1\n",
    "\n",
    "average_sentiments"
   ]
  },
  {
   "cell_type": "markdown",
   "id": "5f2beaa3-d852-4618-a261-e54ffb22bcc0",
   "metadata": {},
   "source": [
    "<h3>Park</h3>"
   ]
  },
  {
   "cell_type": "code",
   "execution_count": 11,
   "id": "c3ed6455-f1a2-4a4b-b4ad-d8007c0ef1c4",
   "metadata": {},
   "outputs": [
    {
     "name": "stdout",
     "output_type": "stream",
     "text": [
      "The biggest park is Central Park\n",
      "\n",
      "The following park has playground:\n",
      "Central Park\n",
      "Maple Grove\n",
      "\n",
      "The average size of all parks is 9333.33\n"
     ]
    }
   ],
   "source": [
    "park_names = [\"Central Park\", \"Riverside Gardens\", \"Maple Grove\"]\n",
    "park_sizes_sqm = [15000, 8000, 5000]\n",
    "park_amenities = [ \n",
    "    [\"Playground\", \"Fountain\"], # Central Park\n",
    "    [\"Walking Trail\"],          # Riverside Gardens\n",
    "    [\"Picnic Tables\", \"BBQ Area\", \"Playground\"] # Maple Grove\n",
    "]\n",
    "\n",
    "biggest = max(park_sizes_sqm)\n",
    "biggest_park = park_names[park_sizes_sqm.index(biggest)]\n",
    "print(f\"The biggest park is {biggest_park}\\n\")\n",
    "\n",
    "print(\"The following park has playground:\")\n",
    "for amenities in park_amenities:\n",
    "    if \"Playground\" in amenities:\n",
    "        index = park_amenities.index(amenities)\n",
    "        print(park_names[index])\n",
    "\n",
    "average = sum(park_sizes_sqm) / len(park_sizes_sqm)\n",
    "print(f\"\\nThe average size of all parks is {average:.2f}\")"
   ]
  },
  {
   "cell_type": "code",
   "execution_count": null,
   "id": "44a8218d-d47a-4cd8-8377-b01ed21fa3ac",
   "metadata": {},
   "outputs": [],
   "source": []
  },
  {
   "cell_type": "code",
   "execution_count": null,
   "id": "bfbb52ce-89ba-4401-95c3-7f5fae19b3ec",
   "metadata": {},
   "outputs": [],
   "source": []
  }
 ],
 "metadata": {
  "kernelspec": {
   "display_name": "Python 3 (ipykernel)",
   "language": "python",
   "name": "python3"
  },
  "language_info": {
   "codemirror_mode": {
    "name": "ipython",
    "version": 3
   },
   "file_extension": ".py",
   "mimetype": "text/x-python",
   "name": "python",
   "nbconvert_exporter": "python",
   "pygments_lexer": "ipython3",
   "version": "3.11.7"
  }
 },
 "nbformat": 4,
 "nbformat_minor": 5
}
