{
 "cells": [
  {
   "cell_type": "markdown",
   "id": "5631fcba-0a30-432f-a6a0-e91da200348b",
   "metadata": {},
   "source": [
    "<h1>Machine Learning Fundamental:<br>\n",
    "Sentiment Analysis</h1>"
   ]
  },
  {
   "cell_type": "code",
   "execution_count": 3,
   "id": "7df5a5ee-7004-4efa-9b1d-c957e8896f3e",
   "metadata": {},
   "outputs": [],
   "source": [
    "import pandas as pd\n",
    "from sklearn.model_selection import train_test_split\n",
    "from sklearn.feature_extraction.text import TfidfVectorizer\n",
    "from sklearn.linear_model import LogisticRegression\n",
    "from sklearn.metrics import classification_report\n",
    "import numpy as np"
   ]
  },
  {
   "cell_type": "markdown",
   "id": "9157c6b8-5e0d-434e-a9a9-6c318cf1a5db",
   "metadata": {},
   "source": [
    "<h3>Prepare a Dataset</h3>"
   ]
  },
  {
   "cell_type": "code",
   "execution_count": 4,
   "id": "8dcde482-cd2a-4c8c-bcb3-4c83ccbf4822",
   "metadata": {},
   "outputs": [
    {
     "data": {
      "text/html": [
       "<div>\n",
       "<style scoped>\n",
       "    .dataframe tbody tr th:only-of-type {\n",
       "        vertical-align: middle;\n",
       "    }\n",
       "\n",
       "    .dataframe tbody tr th {\n",
       "        vertical-align: top;\n",
       "    }\n",
       "\n",
       "    .dataframe thead th {\n",
       "        text-align: right;\n",
       "    }\n",
       "</style>\n",
       "<table border=\"1\" class=\"dataframe\">\n",
       "  <thead>\n",
       "    <tr style=\"text-align: right;\">\n",
       "      <th></th>\n",
       "      <th>review</th>\n",
       "      <th>sentiment</th>\n",
       "    </tr>\n",
       "  </thead>\n",
       "  <tbody>\n",
       "    <tr>\n",
       "      <th>0</th>\n",
       "      <td>This product is amazing! I love it so much.</td>\n",
       "      <td>positive</td>\n",
       "    </tr>\n",
       "    <tr>\n",
       "      <th>1</th>\n",
       "      <td>The shipping was slow and the quality is terri...</td>\n",
       "      <td>negative</td>\n",
       "    </tr>\n",
       "    <tr>\n",
       "      <th>2</th>\n",
       "      <td>Good value for the price, but not outstanding.</td>\n",
       "      <td>neutral</td>\n",
       "    </tr>\n",
       "    <tr>\n",
       "      <th>3</th>\n",
       "      <td>I'm very happy with my purchase.</td>\n",
       "      <td>positive</td>\n",
       "    </tr>\n",
       "    <tr>\n",
       "      <th>4</th>\n",
       "      <td>Would not recommend this at all, total disappo...</td>\n",
       "      <td>negative</td>\n",
       "    </tr>\n",
       "    <tr>\n",
       "      <th>5</th>\n",
       "      <td>It's okay, nothing special.</td>\n",
       "      <td>neutral</td>\n",
       "    </tr>\n",
       "    <tr>\n",
       "      <th>6</th>\n",
       "      <td>Absolutely fantastic. Exceeded my expectations.</td>\n",
       "      <td>positive</td>\n",
       "    </tr>\n",
       "    <tr>\n",
       "      <th>7</th>\n",
       "      <td>Worst experience ever. It broke after one use.</td>\n",
       "      <td>negative</td>\n",
       "    </tr>\n",
       "    <tr>\n",
       "      <th>8</th>\n",
       "      <td>Pleasantly surprised by the performance.</td>\n",
       "      <td>positive</td>\n",
       "    </tr>\n",
       "    <tr>\n",
       "      <th>9</th>\n",
       "      <td>The instructions were confusing and incomplete.</td>\n",
       "      <td>negative</td>\n",
       "    </tr>\n",
       "    <tr>\n",
       "      <th>10</th>\n",
       "      <td>Highly satisfied with the customer service.</td>\n",
       "      <td>positive</td>\n",
       "    </tr>\n",
       "    <tr>\n",
       "      <th>11</th>\n",
       "      <td>This is a total scam, don't buy it.</td>\n",
       "      <td>negative</td>\n",
       "    </tr>\n",
       "  </tbody>\n",
       "</table>\n",
       "</div>"
      ],
      "text/plain": [
       "                                               review sentiment\n",
       "0         This product is amazing! I love it so much.  positive\n",
       "1   The shipping was slow and the quality is terri...  negative\n",
       "2      Good value for the price, but not outstanding.   neutral\n",
       "3                    I'm very happy with my purchase.  positive\n",
       "4   Would not recommend this at all, total disappo...  negative\n",
       "5                         It's okay, nothing special.   neutral\n",
       "6     Absolutely fantastic. Exceeded my expectations.  positive\n",
       "7      Worst experience ever. It broke after one use.  negative\n",
       "8            Pleasantly surprised by the performance.  positive\n",
       "9     The instructions were confusing and incomplete.  negative\n",
       "10        Highly satisfied with the customer service.  positive\n",
       "11                This is a total scam, don't buy it.  negative"
      ]
     },
     "execution_count": 4,
     "metadata": {},
     "output_type": "execute_result"
    }
   ],
   "source": [
    "data = {\n",
    "    'review': [\n",
    "        \"This product is amazing! I love it so much.\",\n",
    "        \"The shipping was slow and the quality is terrible.\",\n",
    "        \"Good value for the price, but not outstanding.\",\n",
    "        \"I'm very happy with my purchase.\",\n",
    "        \"Would not recommend this at all, total disappointment.\",\n",
    "        \"It's okay, nothing special.\",\n",
    "        \"Absolutely fantastic. Exceeded my expectations.\",\n",
    "        \"Worst experience ever. It broke after one use.\",\n",
    "        \"Pleasantly surprised by the performance.\",\n",
    "        \"The instructions were confusing and incomplete.\",\n",
    "        \"Highly satisfied with the customer service.\",\n",
    "        \"This is a total scam, don't buy it.\",\n",
    "    ],\n",
    "    'sentiment': [\n",
    "        'positive', 'negative', 'neutral', 'positive', 'negative', 'neutral',\n",
    "        'positive', 'negative', 'positive', 'negative', 'positive', 'negative'\n",
    "    ]\n",
    "}\n",
    "df = pd.DataFrame(data)\n",
    "df"
   ]
  },
  {
   "cell_type": "markdown",
   "id": "48b9efec-c92d-45f6-acc2-29b03f728e7c",
   "metadata": {},
   "source": [
    "<h3>Preprocessing and Feature Extraction using Bag-of-Words</h3>"
   ]
  },
  {
   "cell_type": "code",
   "execution_count": 5,
   "id": "267554ac-28d9-4295-a69c-4b1cae63089a",
   "metadata": {},
   "outputs": [
    {
     "name": "stdout",
     "output_type": "stream",
     "text": [
      "TF-IDF matrix created.\n",
      "Shape of training data matrix: (8, 26)\n"
     ]
    }
   ],
   "source": [
    "# Split the data into training and testing sets\n",
    "X_train, X_test, y_train, y_test = train_test_split(df['review'], df['sentiment'], test_size=0.3, random_state=42)\n",
    "\n",
    "# Feature Extraction with TF-IDF\n",
    "vectorizer = TfidfVectorizer(stop_words='english', lowercase=True, max_features=1000)\n",
    "\n",
    "# 'fit_transform' on training data\n",
    "X_train_vec = vectorizer.fit_transform(X_train)\n",
    "# 'transform' on test data using the vocabulary learned from the training data\n",
    "X_test_vec = vectorizer.transform(X_test)\n",
    "\n",
    "print(\"TF-IDF matrix created.\")\n",
    "print(f\"Shape of training data matrix: {X_train_vec.shape}\")"
   ]
  },
  {
   "cell_type": "markdown",
   "id": "9467b94b-a65d-44ef-9a12-605ef03be2cf",
   "metadata": {},
   "source": [
    "<h3>Model Training</h3>"
   ]
  },
  {
   "cell_type": "code",
   "execution_count": 7,
   "id": "140da59f-94db-4053-9595-ba5969e8f33a",
   "metadata": {},
   "outputs": [
    {
     "data": {
      "text/html": [
       "<style>#sk-container-id-1 {color: black;background-color: white;}#sk-container-id-1 pre{padding: 0;}#sk-container-id-1 div.sk-toggleable {background-color: white;}#sk-container-id-1 label.sk-toggleable__label {cursor: pointer;display: block;width: 100%;margin-bottom: 0;padding: 0.3em;box-sizing: border-box;text-align: center;}#sk-container-id-1 label.sk-toggleable__label-arrow:before {content: \"▸\";float: left;margin-right: 0.25em;color: #696969;}#sk-container-id-1 label.sk-toggleable__label-arrow:hover:before {color: black;}#sk-container-id-1 div.sk-estimator:hover label.sk-toggleable__label-arrow:before {color: black;}#sk-container-id-1 div.sk-toggleable__content {max-height: 0;max-width: 0;overflow: hidden;text-align: left;background-color: #f0f8ff;}#sk-container-id-1 div.sk-toggleable__content pre {margin: 0.2em;color: black;border-radius: 0.25em;background-color: #f0f8ff;}#sk-container-id-1 input.sk-toggleable__control:checked~div.sk-toggleable__content {max-height: 200px;max-width: 100%;overflow: auto;}#sk-container-id-1 input.sk-toggleable__control:checked~label.sk-toggleable__label-arrow:before {content: \"▾\";}#sk-container-id-1 div.sk-estimator input.sk-toggleable__control:checked~label.sk-toggleable__label {background-color: #d4ebff;}#sk-container-id-1 div.sk-label input.sk-toggleable__control:checked~label.sk-toggleable__label {background-color: #d4ebff;}#sk-container-id-1 input.sk-hidden--visually {border: 0;clip: rect(1px 1px 1px 1px);clip: rect(1px, 1px, 1px, 1px);height: 1px;margin: -1px;overflow: hidden;padding: 0;position: absolute;width: 1px;}#sk-container-id-1 div.sk-estimator {font-family: monospace;background-color: #f0f8ff;border: 1px dotted black;border-radius: 0.25em;box-sizing: border-box;margin-bottom: 0.5em;}#sk-container-id-1 div.sk-estimator:hover {background-color: #d4ebff;}#sk-container-id-1 div.sk-parallel-item::after {content: \"\";width: 100%;border-bottom: 1px solid gray;flex-grow: 1;}#sk-container-id-1 div.sk-label:hover label.sk-toggleable__label {background-color: #d4ebff;}#sk-container-id-1 div.sk-serial::before {content: \"\";position: absolute;border-left: 1px solid gray;box-sizing: border-box;top: 0;bottom: 0;left: 50%;z-index: 0;}#sk-container-id-1 div.sk-serial {display: flex;flex-direction: column;align-items: center;background-color: white;padding-right: 0.2em;padding-left: 0.2em;position: relative;}#sk-container-id-1 div.sk-item {position: relative;z-index: 1;}#sk-container-id-1 div.sk-parallel {display: flex;align-items: stretch;justify-content: center;background-color: white;position: relative;}#sk-container-id-1 div.sk-item::before, #sk-container-id-1 div.sk-parallel-item::before {content: \"\";position: absolute;border-left: 1px solid gray;box-sizing: border-box;top: 0;bottom: 0;left: 50%;z-index: -1;}#sk-container-id-1 div.sk-parallel-item {display: flex;flex-direction: column;z-index: 1;position: relative;background-color: white;}#sk-container-id-1 div.sk-parallel-item:first-child::after {align-self: flex-end;width: 50%;}#sk-container-id-1 div.sk-parallel-item:last-child::after {align-self: flex-start;width: 50%;}#sk-container-id-1 div.sk-parallel-item:only-child::after {width: 0;}#sk-container-id-1 div.sk-dashed-wrapped {border: 1px dashed gray;margin: 0 0.4em 0.5em 0.4em;box-sizing: border-box;padding-bottom: 0.4em;background-color: white;}#sk-container-id-1 div.sk-label label {font-family: monospace;font-weight: bold;display: inline-block;line-height: 1.2em;}#sk-container-id-1 div.sk-label-container {text-align: center;}#sk-container-id-1 div.sk-container {/* jupyter's `normalize.less` sets `[hidden] { display: none; }` but bootstrap.min.css set `[hidden] { display: none !important; }` so we also need the `!important` here to be able to override the default hidden behavior on the sphinx rendered scikit-learn.org. See: https://github.com/scikit-learn/scikit-learn/issues/21755 */display: inline-block !important;position: relative;}#sk-container-id-1 div.sk-text-repr-fallback {display: none;}</style><div id=\"sk-container-id-1\" class=\"sk-top-container\"><div class=\"sk-text-repr-fallback\"><pre>LogisticRegression(max_iter=1000)</pre><b>In a Jupyter environment, please rerun this cell to show the HTML representation or trust the notebook. <br />On GitHub, the HTML representation is unable to render, please try loading this page with nbviewer.org.</b></div><div class=\"sk-container\" hidden><div class=\"sk-item\"><div class=\"sk-estimator sk-toggleable\"><input class=\"sk-toggleable__control sk-hidden--visually\" id=\"sk-estimator-id-1\" type=\"checkbox\" checked><label for=\"sk-estimator-id-1\" class=\"sk-toggleable__label sk-toggleable__label-arrow\">LogisticRegression</label><div class=\"sk-toggleable__content\"><pre>LogisticRegression(max_iter=1000)</pre></div></div></div></div></div>"
      ],
      "text/plain": [
       "LogisticRegression(max_iter=1000)"
      ]
     },
     "execution_count": 7,
     "metadata": {},
     "output_type": "execute_result"
    }
   ],
   "source": [
    "model = LogisticRegression(max_iter=1000)\n",
    "\n",
    "# 'fit' the model with our vectorized training data and labels\n",
    "model.fit(X_train_vec, y_train)"
   ]
  },
  {
   "cell_type": "markdown",
   "id": "002d2a5e-7804-4fea-9e13-3a90502e141e",
   "metadata": {},
   "source": [
    "<h3>Prediction and Evaluation using Precision, Recall and F1-Score</h3>"
   ]
  },
  {
   "cell_type": "code",
   "execution_count": 8,
   "id": "a81899e3-3955-437f-9797-d9948a849c6f",
   "metadata": {},
   "outputs": [
    {
     "name": "stdout",
     "output_type": "stream",
     "text": [
      "              precision    recall  f1-score   support\n",
      "\n",
      "    negative       0.25      1.00      0.40         1\n",
      "    positive       1.00      0.00      0.00         3\n",
      "\n",
      "    accuracy                           0.25         4\n",
      "   macro avg       0.62      0.50      0.20         4\n",
      "weighted avg       0.81      0.25      0.10         4\n",
      "\n"
     ]
    }
   ],
   "source": [
    "# Use the trained model to predict on the test data.\n",
    "y_pred = model.predict(X_test_vec)\n",
    "\n",
    "# The classification_report provides precision, recall, and F1-score for each class.\n",
    "print(classification_report(y_test, y_pred, zero_division=1))"
   ]
  },
  {
   "cell_type": "markdown",
   "id": "3c8381f9-7dc3-46bf-b699-e6097599b4e1",
   "metadata": {},
   "source": [
    "<h3>Testing with Different Data</h3>"
   ]
  },
  {
   "cell_type": "code",
   "execution_count": 9,
   "id": "11566984-e67e-4e8c-9654-9e5d5fcf59fc",
   "metadata": {},
   "outputs": [
    {
     "name": "stdout",
     "output_type": "stream",
     "text": [
      "Prediction for 'The movie was a complete failure.': negative\n"
     ]
    }
   ],
   "source": [
    "new_review = [\"The movie was a complete failure.\"]\n",
    "new_review_vec = vectorizer.transform(new_review)\n",
    "new_review_prediction = model.predict(new_review_vec)\n",
    "print(f\"Prediction for '{new_review[0]}': {new_review_prediction[0]}\")"
   ]
  },
  {
   "cell_type": "code",
   "execution_count": null,
   "id": "930d772b-f039-4868-a84d-df4b03b6c65b",
   "metadata": {},
   "outputs": [],
   "source": []
  }
 ],
 "metadata": {
  "kernelspec": {
   "display_name": "Python 3 (ipykernel)",
   "language": "python",
   "name": "python3"
  },
  "language_info": {
   "codemirror_mode": {
    "name": "ipython",
    "version": 3
   },
   "file_extension": ".py",
   "mimetype": "text/x-python",
   "name": "python",
   "nbconvert_exporter": "python",
   "pygments_lexer": "ipython3",
   "version": "3.11.7"
  }
 },
 "nbformat": 4,
 "nbformat_minor": 5
}
