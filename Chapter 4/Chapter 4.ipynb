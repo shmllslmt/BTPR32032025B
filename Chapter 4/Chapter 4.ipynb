{
 "cells": [
  {
   "cell_type": "markdown",
   "id": "81fc38fb-a108-4dee-b198-f6c88ff1a504",
   "metadata": {},
   "source": [
    "<h1>Community Event Attendance Log</h1>"
   ]
  },
  {
   "cell_type": "code",
   "execution_count": 18,
   "id": "60aee8a4-1405-468e-833e-faec1b91d77a",
   "metadata": {},
   "outputs": [
    {
     "name": "stdin",
     "output_type": "stream",
     "text": [
      "Name for Attendance (Type 0 to Exit):  Phoong Jing Yi\n",
      "Name for Attendance (Type 0 to Exit):  Pang Guo Lin\n",
      "Name for Attendance (Type 0 to Exit):  Teo Hock Xiang\n",
      "Name for Attendance (Type 0 to Exit):  Cheng Yi Xiang\n",
      "Name for Attendance (Type 0 to Exit):  0\n"
     ]
    }
   ],
   "source": [
    "# open file using appending and writing access mode\n",
    "with open('attendance_log.txt', 'a+') as attendanceFile:\n",
    "    # loop until user doesn't have any more names to input\n",
    "    while True:\n",
    "        name = input(\"Name for Attendance (Type 0 to Exit): \")\n",
    "\n",
    "        if name == \"0\":\n",
    "            # break if user type 0 to exit\n",
    "            break\n",
    "        else:\n",
    "            # write each name in new line\n",
    "            attendanceFile.write(name+\"\\n\")\n",
    "# close the file\n",
    "attendanceFile.close()"
   ]
  },
  {
   "cell_type": "code",
   "execution_count": 52,
   "id": "81206f87-db9b-45b7-b899-f645e59f3d78",
   "metadata": {},
   "outputs": [
    {
     "name": "stdout",
     "output_type": "stream",
     "text": [
      "The list of names attending BTPR3203 class on 4 July 2025:\n",
      "Shamilla\n",
      "Tan Bing Yan\n",
      "Lee Zhan Neng\n",
      "Lim Li En\n",
      "Oi Wing Lun\n",
      "Phoong Jing Yi\n",
      "Pang Guo Lin\n",
      "Teo Hock Xiang\n",
      "Cheng Yi Xiang\n"
     ]
    }
   ],
   "source": [
    "# try to open the file with read only access mode\n",
    "try:\n",
    "    attendanceFile = open('attendance_log.txt', 'r')\n",
    "    # reading all lines into a list, one line one list element\n",
    "    attendanceList = attendanceFile.readlines()\n",
    "    \n",
    "    print('The list of names attending BTPR3203 class on 4 July 2025:')\n",
    "    for name in attendanceList:\n",
    "        # strip is to remove the additional line break that we include during write\n",
    "        print(name.strip())\n",
    "# if the file is not found, print appropriate message\n",
    "except FileNotFoundError:\n",
    "    print(f\"{attendanceFile.name} not found.\")"
   ]
  },
  {
   "cell_type": "markdown",
   "id": "37d4d4da-3add-4dea-82d5-ca3150bfd271",
   "metadata": {},
   "source": [
    "<h1>Environmental Sensor Data</h1>"
   ]
  },
  {
   "cell_type": "code",
   "execution_count": 64,
   "id": "d30fe7b8-c688-4447-94ea-59b65eabe968",
   "metadata": {},
   "outputs": [
    {
     "name": "stdout",
     "output_type": "stream",
     "text": [
      "The total number of readings is 5\n",
      "The total readings is 119.3\n",
      "The average readings is 23.86\n"
     ]
    }
   ],
   "source": [
    "processedList = list()\n",
    "\n",
    "# try to open the file with read only access mode\n",
    "try:\n",
    "    sensorFile = open('sensor_data.txt', 'r')\n",
    "    sensorList = sensorFile.readlines()\n",
    "    \n",
    "    for sensorData in sensorList:\n",
    "        sensorData = float(sensorData.strip())\n",
    "        processedList.append(sensorData)\n",
    "    print(f\"The total number of readings is {len(processedList)}\")\n",
    "    print(f\"The total readings is {sum(processedList)}\")\n",
    "    print(f\"The average readings is {sum(processedList)/len(processedList)}\")\n",
    "\n",
    "# if the file is not found, print appropriate message\n",
    "except FileNotFoundError:\n",
    "    print(f\"{sensorFile.name} not found. Please ensure the file is in the correct directory.\")"
   ]
  },
  {
   "cell_type": "markdown",
   "id": "6141ad07-62cc-42ed-949e-ea6cd5253713",
   "metadata": {},
   "source": [
    "<h1>Community Health Survey</h1>"
   ]
  },
  {
   "cell_type": "code",
   "execution_count": 53,
   "id": "24f89402-3c33-4a19-9e3a-d696da9560a0",
   "metadata": {},
   "outputs": [
    {
     "name": "stdout",
     "output_type": "stream",
     "text": [
      "Row 2 is skipped due to invalid data\n",
      "Row 4 is skipped due to invalid data\n",
      "Row 8 is skipped due to invalid data\n",
      "The total number of valid BMI is 7\n",
      "The valid BMI scores are:\n",
      "Participant ID: 101, Age: 30, BMI Score: 22.5\n",
      "Participant ID: 103, Age: 22, BMI Score: 20.1\n",
      "Participant ID: 105, Age: 38, BMI Score: 28.7\n",
      "Participant ID: 106, Age: 60, BMI Score: 31.2\n",
      "Participant ID: 107, Age: 25, BMI Score: 19.8\n",
      "Participant ID: 109, Age: 33, BMI Score: 24.0\n",
      "Participant ID: 110, Age: 40, BMI Score: 26.5\n",
      "The average BMI score is 24.69\n"
     ]
    }
   ],
   "source": [
    "# csv file requires csv package\n",
    "import csv\n",
    "\n",
    "processedData = list()\n",
    "totalBMI = 0\n",
    "averageBMI = 0\n",
    "\n",
    "try:\n",
    "    # file is open using the default mode, which is the read mode\n",
    "    healthFile = open('health_survey.csv')\n",
    "    # csv.reader() function is used to read the file\n",
    "    healthReader = csv.reader(healthFile)\n",
    "    # parse the read file into a list\n",
    "    healthData = list(healthReader)\n",
    "\n",
    "    # deleting the header because we don't need to process that row\n",
    "    del healthData[0]\n",
    "\n",
    "    # accessing each row in the list\n",
    "    for data in healthData:\n",
    "        try:\n",
    "            # explicitly cast the BMI score into a string\n",
    "            data[2] = float(data[2])\n",
    "            # accumulate the BMI score\n",
    "            totalBMI += data[2]\n",
    "            # add the processed row into a list\n",
    "            processedData.append(data)\n",
    "        # if the value couldn't be converted, print appropriate messages\n",
    "        except ValueError:\n",
    "            print(f\"Row {healthData.index(data)+1} is skipped due to invalid data\")\n",
    "            \n",
    "    print(f\"The total number of valid BMI is {len(processedData)}\")\n",
    "    \n",
    "    print(\"The valid BMI scores are:\")\n",
    "    for data in processedData:\n",
    "        print(f\"Participant ID: {data[0]}, Age: {data[1]}, BMI Score: {data[2]}\")\n",
    "        \n",
    "    averageBMI = totalBMI / len(processedData)\n",
    "    print(f\"The average BMI score is {averageBMI:.2f}\")\n",
    "    \n",
    "except FileNotFoundError:\n",
    "    print(f\"{healthFile.name} is not found.\")"
   ]
  },
  {
   "cell_type": "markdown",
   "id": "f293ab7e-2fbe-4465-af27-aee77ea21956",
   "metadata": {},
   "source": [
    "<h1>Humanitarian Aid Supply Chain</h1>"
   ]
  },
  {
   "cell_type": "code",
   "execution_count": 88,
   "id": "d90a5d2c-b2e0-4860-a3a5-f929459ea941",
   "metadata": {},
   "outputs": [
    {
     "name": "stdout",
     "output_type": "stream",
     "text": [
      "Row 2 cannot be converted due to invalid data\n",
      "Row 3 is skipped due to index out of range\n",
      "Row 4 cannot be converted due to invalid data\n",
      "Total quantity is 360\n",
      "Total weight is 2050.5 kg\n"
     ]
    }
   ],
   "source": [
    "goodList = list()\n",
    "badList = list()\n",
    "exceptionRecord = list()\n",
    "\n",
    "# try to open the file with read only access mode\n",
    "try:\n",
    "    shipmentFile = open('shipment_log.txt', 'r')\n",
    "    shipmentList = shipmentFile.readlines()\n",
    "\n",
    "    del shipmentList[0]\n",
    "    \n",
    "    for shipmentData in shipmentList:\n",
    "        # we need to process the quantity (index 3) and weight (index 4)\n",
    "        try:\n",
    "            data = shipmentData.split(',')\n",
    "            # converting the quantity\n",
    "            data[3] = int(data[3])\n",
    "            # converting the weightKG\n",
    "            data[4] = float(data[4].strip())\n",
    "            goodList.append(data)\n",
    "        # if the value couldn't be converted, print appropriate messages\n",
    "        except ValueError:\n",
    "            badList.append(shipmentData)\n",
    "            exception = f\"Row {shipmentList.index(shipmentData)} cannot be converted due to invalid data\"\n",
    "            exceptionRecord.append(exception)\n",
    "            print(exception)\n",
    "        except IndexError:\n",
    "            badList.append(shipmentData)\n",
    "            exception = f\"Row {shipmentList.index(shipmentData)} is skipped due to index out of range\"\n",
    "            exceptionRecord.append(exception)\n",
    "            print(exception)\n",
    "\n",
    "    # open file using appending and writing access mode\n",
    "    with open('shipment_errors.txt', 'w+') as errorFile:\n",
    "        for record in exceptionRecord:\n",
    "            errorFile.write(record+\": \"+badList[exceptionRecord.index(record)]+\"\\n\")\n",
    "    # close the file\n",
    "    attendanceFile.close()\n",
    "\n",
    "    totalQuantity = 0\n",
    "    totalWeight = 0\n",
    "    \n",
    "    for good in goodList:\n",
    "        totalQuantity += good[3]\n",
    "        totalWeight += good[4]\n",
    "    print(f\"Total quantity is {totalQuantity}\")\n",
    "    print(f\"Total weight is {totalWeight} kg\")\n",
    "# if the file is not found, print appropriate message\n",
    "except FileNotFoundError:\n",
    "    print(f\"{shipmentFile.name} not found. Please ensure the file is in the correct directory.\")"
   ]
  },
  {
   "cell_type": "code",
   "execution_count": null,
   "id": "96057119-ae15-4f25-b180-770422a04471",
   "metadata": {},
   "outputs": [],
   "source": []
  }
 ],
 "metadata": {
  "kernelspec": {
   "display_name": "Python 3 (ipykernel)",
   "language": "python",
   "name": "python3"
  },
  "language_info": {
   "codemirror_mode": {
    "name": "ipython",
    "version": 3
   },
   "file_extension": ".py",
   "mimetype": "text/x-python",
   "name": "python",
   "nbconvert_exporter": "python",
   "pygments_lexer": "ipython3",
   "version": "3.11.7"
  }
 },
 "nbformat": 4,
 "nbformat_minor": 5
}
