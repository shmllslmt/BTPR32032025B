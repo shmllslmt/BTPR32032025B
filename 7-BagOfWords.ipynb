{
 "cells": [
  {
   "cell_type": "markdown",
   "id": "35091916-c61f-4965-a4c1-cc5ac405223b",
   "metadata": {},
   "source": [
    "<h1>Machine Learning Fundamental:<br>\n",
    "Sentiment Analysis</h1>"
   ]
  },
  {
   "cell_type": "markdown",
   "id": "68f2f7f6-49fe-4fae-bdac-c7a317593bd8",
   "metadata": {},
   "source": [
    "<h3>Import Libraries</h3>\n",
    "<strong>Scikit-learn</strong>, often referred to as <strong>sklearn</strong>, is an open-source Python library widely used for machine learning. It offers implementations of a vast array of <i>supervised</i> and <i>unsupervised</i> learning algorithms, including <i>classification</i>, <i>regression</i> and <i>clustering</i>."
   ]
  },
  {
   "cell_type": "code",
   "execution_count": 2,
   "id": "7df5a5ee-7004-4efa-9b1d-c957e8896f3e",
   "metadata": {},
   "outputs": [],
   "source": [
    "import pandas as pd\n",
    "from sklearn.model_selection import train_test_split\n",
    "from sklearn.feature_extraction.text import CountVectorizer\n",
    "from sklearn.linear_model import LogisticRegression\n",
    "from sklearn.metrics import accuracy_score"
   ]
  },
  {
   "cell_type": "markdown",
   "id": "453543ed-81b3-49b4-9ab2-90f8ccce977a",
   "metadata": {},
   "source": [
    "<h3>Prepare a Dataset</h3>"
   ]
  },
  {
   "cell_type": "code",
   "execution_count": 3,
   "id": "8dcde482-cd2a-4c8c-bcb3-4c83ccbf4822",
   "metadata": {},
   "outputs": [
    {
     "data": {
      "text/html": [
       "<div>\n",
       "<style scoped>\n",
       "    .dataframe tbody tr th:only-of-type {\n",
       "        vertical-align: middle;\n",
       "    }\n",
       "\n",
       "    .dataframe tbody tr th {\n",
       "        vertical-align: top;\n",
       "    }\n",
       "\n",
       "    .dataframe thead th {\n",
       "        text-align: right;\n",
       "    }\n",
       "</style>\n",
       "<table border=\"1\" class=\"dataframe\">\n",
       "  <thead>\n",
       "    <tr style=\"text-align: right;\">\n",
       "      <th></th>\n",
       "      <th>review</th>\n",
       "      <th>sentiment</th>\n",
       "    </tr>\n",
       "  </thead>\n",
       "  <tbody>\n",
       "    <tr>\n",
       "      <th>0</th>\n",
       "      <td>This movie was great and I loved the acting.</td>\n",
       "      <td>positive</td>\n",
       "    </tr>\n",
       "    <tr>\n",
       "      <th>1</th>\n",
       "      <td>The plot was confusing and the ending was terr...</td>\n",
       "      <td>negative</td>\n",
       "    </tr>\n",
       "    <tr>\n",
       "      <th>2</th>\n",
       "      <td>A truly fantastic and enjoyable film.</td>\n",
       "      <td>positive</td>\n",
       "    </tr>\n",
       "    <tr>\n",
       "      <th>3</th>\n",
       "      <td>I would not recommend this to anyone.</td>\n",
       "      <td>negative</td>\n",
       "    </tr>\n",
       "    <tr>\n",
       "      <th>4</th>\n",
       "      <td>The special effects were good, but the story w...</td>\n",
       "      <td>negative</td>\n",
       "    </tr>\n",
       "    <tr>\n",
       "      <th>5</th>\n",
       "      <td>An absolutely horrible waste of my time.</td>\n",
       "      <td>negative</td>\n",
       "    </tr>\n",
       "  </tbody>\n",
       "</table>\n",
       "</div>"
      ],
      "text/plain": [
       "                                              review sentiment\n",
       "0       This movie was great and I loved the acting.  positive\n",
       "1  The plot was confusing and the ending was terr...  negative\n",
       "2              A truly fantastic and enjoyable film.  positive\n",
       "3              I would not recommend this to anyone.  negative\n",
       "4  The special effects were good, but the story w...  negative\n",
       "5           An absolutely horrible waste of my time.  negative"
      ]
     },
     "execution_count": 3,
     "metadata": {},
     "output_type": "execute_result"
    }
   ],
   "source": [
    "data = {\n",
    "    'review': [\n",
    "        \"This movie was great and I loved the acting.\",\n",
    "        \"The plot was confusing and the ending was terrible.\",\n",
    "        \"A truly fantastic and enjoyable film.\",\n",
    "        \"I would not recommend this to anyone.\",\n",
    "        \"The special effects were good, but the story was weak.\",\n",
    "        \"An absolutely horrible waste of my time.\"\n",
    "    ],\n",
    "    'sentiment': [\n",
    "        'positive',\n",
    "        'negative',\n",
    "        'positive',\n",
    "        'negative',\n",
    "        'negative',\n",
    "        'negative'\n",
    "    ]\n",
    "}\n",
    "df = pd.DataFrame(data)\n",
    "df"
   ]
  },
  {
   "cell_type": "markdown",
   "id": "782de331-5ce9-44e2-b4f4-7d75410295ab",
   "metadata": {},
   "source": [
    "<h3>Preprocessing and Feature Extraction using Bag-of-Words</h3>"
   ]
  },
  {
   "cell_type": "code",
   "execution_count": 4,
   "id": "267554ac-28d9-4295-a69c-4b1cae63089a",
   "metadata": {},
   "outputs": [
    {
     "name": "stdout",
     "output_type": "stream",
     "text": [
      "Bag-of-Words matrix created.\n",
      "Shape of training data matrix: (4, 14)\n"
     ]
    }
   ],
   "source": [
    "# The CountVectorizer tokenises, removes stop words, and counts frequencies\n",
    "vectorizer = CountVectorizer(stop_words='english', lowercase=True)\n",
    "\n",
    "# Split the data to prevent data leakage (using test data to train the model)\n",
    "X_train, X_test, y_train, y_test = train_test_split(df['review'], df['sentiment'], test_size=0.3, random_state=42)\n",
    "\n",
    "# 'fit_transform' learns the vocabulary from the training data and transforms it into a numerical matrix\n",
    "X_train_vec = vectorizer.fit_transform(X_train)\n",
    "X_test_vec = vectorizer.transform(X_test) \n",
    "\n",
    "print(\"Bag-of-Words matrix created.\")\n",
    "print(f\"Shape of training data matrix: {X_train_vec.shape}\")"
   ]
  },
  {
   "cell_type": "markdown",
   "id": "78846d50-c114-4a17-aa09-7fa39e820f37",
   "metadata": {},
   "source": [
    "<h3>Model Training</h3>"
   ]
  },
  {
   "cell_type": "code",
   "execution_count": 6,
   "id": "140da59f-94db-4053-9595-ba5969e8f33a",
   "metadata": {},
   "outputs": [
    {
     "data": {
      "text/html": [
       "<style>#sk-container-id-1 {color: black;background-color: white;}#sk-container-id-1 pre{padding: 0;}#sk-container-id-1 div.sk-toggleable {background-color: white;}#sk-container-id-1 label.sk-toggleable__label {cursor: pointer;display: block;width: 100%;margin-bottom: 0;padding: 0.3em;box-sizing: border-box;text-align: center;}#sk-container-id-1 label.sk-toggleable__label-arrow:before {content: \"▸\";float: left;margin-right: 0.25em;color: #696969;}#sk-container-id-1 label.sk-toggleable__label-arrow:hover:before {color: black;}#sk-container-id-1 div.sk-estimator:hover label.sk-toggleable__label-arrow:before {color: black;}#sk-container-id-1 div.sk-toggleable__content {max-height: 0;max-width: 0;overflow: hidden;text-align: left;background-color: #f0f8ff;}#sk-container-id-1 div.sk-toggleable__content pre {margin: 0.2em;color: black;border-radius: 0.25em;background-color: #f0f8ff;}#sk-container-id-1 input.sk-toggleable__control:checked~div.sk-toggleable__content {max-height: 200px;max-width: 100%;overflow: auto;}#sk-container-id-1 input.sk-toggleable__control:checked~label.sk-toggleable__label-arrow:before {content: \"▾\";}#sk-container-id-1 div.sk-estimator input.sk-toggleable__control:checked~label.sk-toggleable__label {background-color: #d4ebff;}#sk-container-id-1 div.sk-label input.sk-toggleable__control:checked~label.sk-toggleable__label {background-color: #d4ebff;}#sk-container-id-1 input.sk-hidden--visually {border: 0;clip: rect(1px 1px 1px 1px);clip: rect(1px, 1px, 1px, 1px);height: 1px;margin: -1px;overflow: hidden;padding: 0;position: absolute;width: 1px;}#sk-container-id-1 div.sk-estimator {font-family: monospace;background-color: #f0f8ff;border: 1px dotted black;border-radius: 0.25em;box-sizing: border-box;margin-bottom: 0.5em;}#sk-container-id-1 div.sk-estimator:hover {background-color: #d4ebff;}#sk-container-id-1 div.sk-parallel-item::after {content: \"\";width: 100%;border-bottom: 1px solid gray;flex-grow: 1;}#sk-container-id-1 div.sk-label:hover label.sk-toggleable__label {background-color: #d4ebff;}#sk-container-id-1 div.sk-serial::before {content: \"\";position: absolute;border-left: 1px solid gray;box-sizing: border-box;top: 0;bottom: 0;left: 50%;z-index: 0;}#sk-container-id-1 div.sk-serial {display: flex;flex-direction: column;align-items: center;background-color: white;padding-right: 0.2em;padding-left: 0.2em;position: relative;}#sk-container-id-1 div.sk-item {position: relative;z-index: 1;}#sk-container-id-1 div.sk-parallel {display: flex;align-items: stretch;justify-content: center;background-color: white;position: relative;}#sk-container-id-1 div.sk-item::before, #sk-container-id-1 div.sk-parallel-item::before {content: \"\";position: absolute;border-left: 1px solid gray;box-sizing: border-box;top: 0;bottom: 0;left: 50%;z-index: -1;}#sk-container-id-1 div.sk-parallel-item {display: flex;flex-direction: column;z-index: 1;position: relative;background-color: white;}#sk-container-id-1 div.sk-parallel-item:first-child::after {align-self: flex-end;width: 50%;}#sk-container-id-1 div.sk-parallel-item:last-child::after {align-self: flex-start;width: 50%;}#sk-container-id-1 div.sk-parallel-item:only-child::after {width: 0;}#sk-container-id-1 div.sk-dashed-wrapped {border: 1px dashed gray;margin: 0 0.4em 0.5em 0.4em;box-sizing: border-box;padding-bottom: 0.4em;background-color: white;}#sk-container-id-1 div.sk-label label {font-family: monospace;font-weight: bold;display: inline-block;line-height: 1.2em;}#sk-container-id-1 div.sk-label-container {text-align: center;}#sk-container-id-1 div.sk-container {/* jupyter's `normalize.less` sets `[hidden] { display: none; }` but bootstrap.min.css set `[hidden] { display: none !important; }` so we also need the `!important` here to be able to override the default hidden behavior on the sphinx rendered scikit-learn.org. See: https://github.com/scikit-learn/scikit-learn/issues/21755 */display: inline-block !important;position: relative;}#sk-container-id-1 div.sk-text-repr-fallback {display: none;}</style><div id=\"sk-container-id-1\" class=\"sk-top-container\"><div class=\"sk-text-repr-fallback\"><pre>LogisticRegression()</pre><b>In a Jupyter environment, please rerun this cell to show the HTML representation or trust the notebook. <br />On GitHub, the HTML representation is unable to render, please try loading this page with nbviewer.org.</b></div><div class=\"sk-container\" hidden><div class=\"sk-item\"><div class=\"sk-estimator sk-toggleable\"><input class=\"sk-toggleable__control sk-hidden--visually\" id=\"sk-estimator-id-1\" type=\"checkbox\" checked><label for=\"sk-estimator-id-1\" class=\"sk-toggleable__label sk-toggleable__label-arrow\">LogisticRegression</label><div class=\"sk-toggleable__content\"><pre>LogisticRegression()</pre></div></div></div></div></div>"
      ],
      "text/plain": [
       "LogisticRegression()"
      ]
     },
     "execution_count": 6,
     "metadata": {},
     "output_type": "execute_result"
    }
   ],
   "source": [
    "# Use a simple Logistic Regression classifier, a good starting point for text classification.\n",
    "model = LogisticRegression()\n",
    "\n",
    "# 'fit' the model with our vectorised training data and labels\n",
    "model.fit(X_train_vec, y_train)"
   ]
  },
  {
   "cell_type": "markdown",
   "id": "57a88838-52e2-45c8-9be0-a9de58bb3169",
   "metadata": {},
   "source": [
    "<h3>Prediction and Evaluation</h3>"
   ]
  },
  {
   "cell_type": "code",
   "execution_count": 7,
   "id": "a81899e3-3955-437f-9797-d9948a849c6f",
   "metadata": {},
   "outputs": [
    {
     "name": "stdout",
     "output_type": "stream",
     "text": [
      "The model's accuracy on the test set is: 0.50\n"
     ]
    }
   ],
   "source": [
    "y_pred = model.predict(X_test_vec)\n",
    "\n",
    "accuracy = accuracy_score(y_test, y_pred)\n",
    "print(f\"The model's accuracy on the test set is: {accuracy:.2f}\")"
   ]
  },
  {
   "cell_type": "markdown",
   "id": "e59d20ca-29f6-44aa-857e-aa8f503dcaef",
   "metadata": {},
   "source": [
    "<h3>Testing with Different Data</h3>"
   ]
  },
  {
   "cell_type": "code",
   "execution_count": 8,
   "id": "11566984-e67e-4e8c-9654-9e5d5fcf59fc",
   "metadata": {},
   "outputs": [
    {
     "name": "stdout",
     "output_type": "stream",
     "text": [
      "Prediction for 'The movie was a complete failure.': negative\n"
     ]
    }
   ],
   "source": [
    "# Example of a new prediction on a single, unseen sentence\n",
    "new_review = [\"The movie was a complete failure.\"]\n",
    "new_review_vec = vectorizer.transform(new_review)\n",
    "new_review_prediction = model.predict(new_review_vec)\n",
    "\n",
    "print(f\"Prediction for '{new_review[0]}': {new_review_prediction[0]}\")"
   ]
  },
  {
   "cell_type": "code",
   "execution_count": null,
   "id": "a0d78e5f-600b-46fb-a44b-a9d89d6d7564",
   "metadata": {},
   "outputs": [],
   "source": []
  },
  {
   "cell_type": "code",
   "execution_count": null,
   "id": "2ef34bef-7ece-4748-a59f-1c52c54c29b5",
   "metadata": {},
   "outputs": [],
   "source": []
  }
 ],
 "metadata": {
  "kernelspec": {
   "display_name": "Python 3 (ipykernel)",
   "language": "python",
   "name": "python3"
  },
  "language_info": {
   "codemirror_mode": {
    "name": "ipython",
    "version": 3
   },
   "file_extension": ".py",
   "mimetype": "text/x-python",
   "name": "python",
   "nbconvert_exporter": "python",
   "pygments_lexer": "ipython3",
   "version": "3.11.7"
  }
 },
 "nbformat": 4,
 "nbformat_minor": 5
}
